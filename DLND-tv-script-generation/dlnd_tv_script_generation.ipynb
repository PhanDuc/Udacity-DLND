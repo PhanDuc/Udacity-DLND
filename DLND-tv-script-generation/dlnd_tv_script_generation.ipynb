{
 "cells": [
  {
   "cell_type": "markdown",
   "metadata": {
    "deletable": true,
    "editable": true
   },
   "source": [
    "# TV Script Generation\n",
    "In this project, you'll generate your own [Simpsons](https://en.wikipedia.org/wiki/The_Simpsons) TV scripts using RNNs.  You'll be using part of the [Simpsons dataset](https://www.kaggle.com/wcukierski/the-simpsons-by-the-data) of scripts from 27 seasons.  The Neural Network you'll build will generate a new TV script for a scene at [Moe's Tavern](https://simpsonswiki.com/wiki/Moe's_Tavern).\n",
    "## Get the Data\n",
    "The data is already provided for you.  You'll be using a subset of the original dataset.  It consists of only the scenes in Moe's Tavern.  This doesn't include other versions of the tavern, like \"Moe's Cavern\", \"Flaming Moe's\", \"Uncle Moe's Family Feed-Bag\", etc.."
   ]
  },
  {
   "cell_type": "code",
   "execution_count": 1,
   "metadata": {
    "collapsed": false,
    "deletable": true,
    "editable": true
   },
   "outputs": [],
   "source": [
    "\"\"\"\n",
    "DON'T MODIFY ANYTHING IN THIS CELL\n",
    "\"\"\"\n",
    "import helper\n",
    "\n",
    "data_dir = './data/simpsons/moes_tavern_lines.txt'\n",
    "text = helper.load_data(data_dir)\n",
    "# Ignore notice, since we don't use it for analysing the data\n",
    "text = text[81:]"
   ]
  },
  {
   "cell_type": "markdown",
   "metadata": {
    "deletable": true,
    "editable": true
   },
   "source": [
    "## Explore the Data\n",
    "Play around with `view_sentence_range` to view different parts of the data."
   ]
  },
  {
   "cell_type": "code",
   "execution_count": 2,
   "metadata": {
    "collapsed": false,
    "deletable": true,
    "editable": true
   },
   "outputs": [
    {
     "name": "stdout",
     "output_type": "stream",
     "text": [
      "Dataset Stats\n",
      "Roughly the number of unique words: 11492\n",
      "Number of scenes: 262\n",
      "Average number of sentences in each scene: 15.248091603053435\n",
      "Number of lines: 4257\n",
      "Average number of words in each line: 11.50434578341555\n",
      "\n",
      "The sentences 0 to 10:\n",
      "Moe_Szyslak: (INTO PHONE) Moe's Tavern. Where the elite meet to drink.\n",
      "Bart_Simpson: Eh, yeah, hello, is Mike there? Last name, Rotch.\n",
      "Moe_Szyslak: (INTO PHONE) Hold on, I'll check. (TO BARFLIES) Mike Rotch. Mike Rotch. Hey, has anybody seen Mike Rotch, lately?\n",
      "Moe_Szyslak: (INTO PHONE) Listen you little puke. One of these days I'm gonna catch you, and I'm gonna carve my name on your back with an ice pick.\n",
      "Moe_Szyslak: What's the matter Homer? You're not your normal effervescent self.\n",
      "Homer_Simpson: I got my problems, Moe. Give me another one.\n",
      "Moe_Szyslak: Homer, hey, you should not drink to forget your problems.\n",
      "Barney_Gumble: Yeah, you should only drink to enhance your social skills.\n",
      "\n",
      "\n"
     ]
    }
   ],
   "source": [
    "view_sentence_range = (0, 10)\n",
    "\n",
    "\"\"\"\n",
    "DON'T MODIFY ANYTHING IN THIS CELL\n",
    "\"\"\"\n",
    "import numpy as np\n",
    "\n",
    "print('Dataset Stats')\n",
    "print('Roughly the number of unique words: {}'.format(len({word: None for word in text.split()})))\n",
    "scenes = text.split('\\n\\n')\n",
    "print('Number of scenes: {}'.format(len(scenes)))\n",
    "sentence_count_scene = [scene.count('\\n') for scene in scenes]\n",
    "print('Average number of sentences in each scene: {}'.format(np.average(sentence_count_scene)))\n",
    "\n",
    "sentences = [sentence for scene in scenes for sentence in scene.split('\\n')]\n",
    "print('Number of lines: {}'.format(len(sentences)))\n",
    "word_count_sentence = [len(sentence.split()) for sentence in sentences]\n",
    "print('Average number of words in each line: {}'.format(np.average(word_count_sentence)))\n",
    "\n",
    "print()\n",
    "print('The sentences {} to {}:'.format(*view_sentence_range))\n",
    "print('\\n'.join(text.split('\\n')[view_sentence_range[0]:view_sentence_range[1]]))"
   ]
  },
  {
   "cell_type": "markdown",
   "metadata": {
    "deletable": true,
    "editable": true
   },
   "source": [
    "## Implement Preprocessing Functions\n",
    "The first thing to do to any dataset is preprocessing.  Implement the following preprocessing functions below:\n",
    "- Lookup Table\n",
    "- Tokenize Punctuation\n",
    "\n",
    "### Lookup Table\n",
    "To create a word embedding, you first need to transform the words to ids.  In this function, create two dictionaries:\n",
    "- Dictionary to go from the words to an id, we'll call `vocab_to_int`\n",
    "- Dictionary to go from the id to word, we'll call `int_to_vocab`\n",
    "\n",
    "Return these dictionaries in the following tuple `(vocab_to_int, int_to_vocab)`"
   ]
  },
  {
   "cell_type": "code",
   "execution_count": 3,
   "metadata": {
    "collapsed": false,
    "deletable": true,
    "editable": true
   },
   "outputs": [
    {
     "name": "stdout",
     "output_type": "stream",
     "text": [
      "Tests Passed\n"
     ]
    }
   ],
   "source": [
    "import numpy as np\n",
    "import problem_unittests as tests\n",
    "\n",
    "def create_lookup_tables(text):\n",
    "    \"\"\"\n",
    "    Create lookup tables for vocabulary\n",
    "    :param text: The text of tv scripts split into words\n",
    "    :return: A tuple of dicts (vocab_to_int, int_to_vocab)\n",
    "    \"\"\"\n",
    "    vocab_to_int = {}\n",
    "    int_to_vocab = {}\n",
    "    for i, word in enumerate(set(text)):\n",
    "        vocab_to_int[word] = i\n",
    "        int_to_vocab[i] = word\n",
    "    return vocab_to_int, int_to_vocab\n",
    "\n",
    "\n",
    "\"\"\"\n",
    "DON'T MODIFY ANYTHING IN THIS CELL THAT IS BELOW THIS LINE\n",
    "\"\"\"\n",
    "tests.test_create_lookup_tables(create_lookup_tables)"
   ]
  },
  {
   "cell_type": "markdown",
   "metadata": {
    "deletable": true,
    "editable": true
   },
   "source": [
    "### Tokenize Punctuation\n",
    "We'll be splitting the script into a word array using spaces as delimiters.  However, punctuations like periods and exclamation marks make it hard for the neural network to distinguish between the word \"bye\" and \"bye!\".\n",
    "\n",
    "Implement the function `token_lookup` to return a dict that will be used to tokenize symbols like \"!\" into \"||Exclamation_Mark||\".  Create a dictionary for the following symbols where the symbol is the key and value is the token:\n",
    "- Period ( . )\n",
    "- Comma ( , )\n",
    "- Quotation Mark ( \" )\n",
    "- Semicolon ( ; )\n",
    "- Exclamation mark ( ! )\n",
    "- Question mark ( ? )\n",
    "- Left Parentheses ( ( )\n",
    "- Right Parentheses ( ) )\n",
    "- Dash ( -- )\n",
    "- Return ( \\n )\n",
    "\n",
    "This dictionary will be used to token the symbols and add the delimiter (space) around it.  This separates the symbols as it's own word, making it easier for the neural network to predict on the next word. Make sure you don't use a token that could be confused as a word. Instead of using the token \"dash\", try using something like \"||dash||\"."
   ]
  },
  {
   "cell_type": "code",
   "execution_count": 4,
   "metadata": {
    "collapsed": false,
    "deletable": true,
    "editable": true
   },
   "outputs": [
    {
     "name": "stdout",
     "output_type": "stream",
     "text": [
      "Tests Passed\n"
     ]
    }
   ],
   "source": [
    "def token_lookup():\n",
    "    \"\"\"\n",
    "    Generate a dict to turn punctuation into a token.\n",
    "    :return: Tokenize dictionary where the key is the punctuation and the value is the token\n",
    "    \"\"\"\n",
    "    token_dict = {\n",
    "        \".\": \"||period||\",\n",
    "        \",\": \"||comma||\",\n",
    "        \"\\\"\": \"||quotation||\",\n",
    "        \";\": \"||semicolon||\",\n",
    "        \"!\": \"||exclamation||\",\n",
    "        \"?\": \"||question||\",\n",
    "        \"(\": \"||left_parentheses||\",\n",
    "        \")\": \"||right_parentheses||\",\n",
    "        \"--\": \"||dash||\",\n",
    "        \"\\n\": \"||return||\",\n",
    "    }\n",
    "    return token_dict\n",
    "\n",
    "\"\"\"\n",
    "DON'T MODIFY ANYTHING IN THIS CELL THAT IS BELOW THIS LINE\n",
    "\"\"\"\n",
    "tests.test_tokenize(token_lookup)"
   ]
  },
  {
   "cell_type": "markdown",
   "metadata": {
    "deletable": true,
    "editable": true
   },
   "source": [
    "## Preprocess all the data and save it\n",
    "Running the code cell below will preprocess all the data and save it to file."
   ]
  },
  {
   "cell_type": "code",
   "execution_count": 5,
   "metadata": {
    "collapsed": false,
    "deletable": true,
    "editable": true
   },
   "outputs": [],
   "source": [
    "\"\"\"\n",
    "DON'T MODIFY ANYTHING IN THIS CELL\n",
    "\"\"\"\n",
    "# Preprocess Training, Validation, and Testing Data\n",
    "helper.preprocess_and_save_data(data_dir, token_lookup, create_lookup_tables)"
   ]
  },
  {
   "cell_type": "markdown",
   "metadata": {
    "deletable": true,
    "editable": true
   },
   "source": [
    "# Check Point\n",
    "This is your first checkpoint. If you ever decide to come back to this notebook or have to restart the notebook, you can start from here. The preprocessed data has been saved to disk."
   ]
  },
  {
   "cell_type": "code",
   "execution_count": 6,
   "metadata": {
    "collapsed": false,
    "deletable": true,
    "editable": true
   },
   "outputs": [],
   "source": [
    "\"\"\"\n",
    "DON'T MODIFY ANYTHING IN THIS CELL\n",
    "\"\"\"\n",
    "import helper\n",
    "import numpy as np\n",
    "import problem_unittests as tests\n",
    "\n",
    "int_text, vocab_to_int, int_to_vocab, token_dict = helper.load_preprocess()"
   ]
  },
  {
   "cell_type": "markdown",
   "metadata": {
    "deletable": true,
    "editable": true
   },
   "source": [
    "## Build the Neural Network\n",
    "You'll build the components necessary to build a RNN by implementing the following functions below:\n",
    "- get_inputs\n",
    "- get_init_cell\n",
    "- get_embed\n",
    "- build_rnn\n",
    "- build_nn\n",
    "- get_batches\n",
    "\n",
    "### Check the Version of TensorFlow and Access to GPU"
   ]
  },
  {
   "cell_type": "code",
   "execution_count": 7,
   "metadata": {
    "collapsed": false
   },
   "outputs": [
    {
     "name": "stdout",
     "output_type": "stream",
     "text": [
      "TensorFlow Version: 1.0.0\n"
     ]
    },
    {
     "name": "stderr",
     "output_type": "stream",
     "text": [
      "/Users/piasy/anaconda3/envs/dlnd/lib/python3.6/site-packages/ipykernel/__main__.py:14: UserWarning: No GPU found. Please use a GPU to train your neural network.\n"
     ]
    }
   ],
   "source": [
    "\"\"\"\n",
    "DON'T MODIFY ANYTHING IN THIS CELL\n",
    "\"\"\"\n",
    "from distutils.version import LooseVersion\n",
    "import warnings\n",
    "import tensorflow as tf\n",
    "\n",
    "# Check TensorFlow Version\n",
    "assert LooseVersion(tf.__version__) >= LooseVersion('1.0'), 'Please use TensorFlow version 1.0 or newer'\n",
    "print('TensorFlow Version: {}'.format(tf.__version__))\n",
    "\n",
    "# Check for a GPU\n",
    "if not tf.test.gpu_device_name():\n",
    "    warnings.warn('No GPU found. Please use a GPU to train your neural network.')\n",
    "else:\n",
    "    print('Default GPU Device: {}'.format(tf.test.gpu_device_name()))"
   ]
  },
  {
   "cell_type": "markdown",
   "metadata": {},
   "source": [
    "### Input\n",
    "Implement the `get_inputs()` function to create TF Placeholders for the Neural Network.  It should create the following placeholders:\n",
    "- Input text placeholder named \"input\" using the [TF Placeholder](https://www.tensorflow.org/api_docs/python/tf/placeholder) `name` parameter.\n",
    "- Targets placeholder\n",
    "- Learning Rate placeholder\n",
    "\n",
    "Return the placeholders in the following the tuple `(Input, Targets, LearingRate)`"
   ]
  },
  {
   "cell_type": "code",
   "execution_count": 8,
   "metadata": {
    "collapsed": false,
    "deletable": true,
    "editable": true
   },
   "outputs": [
    {
     "name": "stdout",
     "output_type": "stream",
     "text": [
      "Tests Passed\n"
     ]
    }
   ],
   "source": [
    "def get_inputs():\n",
    "    \"\"\"\n",
    "    Create TF Placeholders for input, targets, and learning rate.\n",
    "    :return: Tuple (input, targets, learning rate)\n",
    "    \"\"\"\n",
    "    inputs = tf.placeholder(tf.int32, [None, None] ,\"input\")\n",
    "    targets = tf.placeholder(tf.int32, [None, None], \"target\")\n",
    "    lr = tf.placeholder(tf.float32, name=\"lr\")\n",
    "    return inputs, targets, lr\n",
    "\n",
    "\n",
    "\"\"\"\n",
    "DON'T MODIFY ANYTHING IN THIS CELL THAT IS BELOW THIS LINE\n",
    "\"\"\"\n",
    "tests.test_get_inputs(get_inputs)"
   ]
  },
  {
   "cell_type": "markdown",
   "metadata": {
    "deletable": true,
    "editable": true
   },
   "source": [
    "### Build RNN Cell and Initialize\n",
    "Stack one or more [`BasicLSTMCells`](https://www.tensorflow.org/api_docs/python/tf/contrib/rnn/BasicLSTMCell) in a [`MultiRNNCell`](https://www.tensorflow.org/api_docs/python/tf/contrib/rnn/MultiRNNCell).\n",
    "- The Rnn size should be set using `rnn_size`\n",
    "- Initalize Cell State using the MultiRNNCell's [`zero_state()`](https://www.tensorflow.org/api_docs/python/tf/contrib/rnn/MultiRNNCell#zero_state) function\n",
    "    - Apply the name \"initial_state\" to the initial state using [`tf.identity()`](https://www.tensorflow.org/api_docs/python/tf/identity)\n",
    "\n",
    "Return the cell and initial state in the following tuple `(Cell, InitialState)`"
   ]
  },
  {
   "cell_type": "code",
   "execution_count": 9,
   "metadata": {
    "collapsed": false,
    "deletable": true,
    "editable": true
   },
   "outputs": [
    {
     "name": "stdout",
     "output_type": "stream",
     "text": [
      "Tests Passed\n"
     ]
    }
   ],
   "source": [
    "def get_init_cell(batch_size, rnn_size, number_of_layers=1):\n",
    "    \"\"\"\n",
    "    Create an RNN Cell and initialize it.\n",
    "    :param batch_size: Size of batches\n",
    "    :param rnn_size: Size of RNNs\n",
    "    :return: Tuple (cell, initialize state)\n",
    "    \"\"\"\n",
    "    lstm = tf.contrib.rnn.BasicLSTMCell(rnn_size, state_is_tuple=True)\n",
    "    cell = tf.contrib.rnn.MultiRNNCell([lstm] * number_of_layers, state_is_tuple=True)\n",
    "    init_state = cell.zero_state(batch_size, tf.float32)\n",
    "    init_state = tf.identity(init_state, 'initial_state')\n",
    "    return cell, init_state\n",
    "\n",
    "\n",
    "\"\"\"\n",
    "DON'T MODIFY ANYTHING IN THIS CELL THAT IS BELOW THIS LINE\n",
    "\"\"\"\n",
    "tests.test_get_init_cell(get_init_cell)"
   ]
  },
  {
   "cell_type": "markdown",
   "metadata": {
    "deletable": true,
    "editable": true
   },
   "source": [
    "### Word Embedding\n",
    "Apply embedding to `input_data` using TensorFlow.  Return the embedded sequence."
   ]
  },
  {
   "cell_type": "code",
   "execution_count": 10,
   "metadata": {
    "collapsed": false,
    "deletable": true,
    "editable": true
   },
   "outputs": [
    {
     "name": "stdout",
     "output_type": "stream",
     "text": [
      "Tests Passed\n"
     ]
    }
   ],
   "source": [
    "def get_embed(input_data, vocab_size, embed_dim):\n",
    "    \"\"\"\n",
    "    Create embedding for <input_data>.\n",
    "    :param input_data: TF placeholder for text input.\n",
    "    :param vocab_size: Number of words in vocabulary.\n",
    "    :param embed_dim: Number of embedding dimensions\n",
    "    :return: Embedded input.\n",
    "    \"\"\"\n",
    "    # the embedding will be trained later\n",
    "    embedding = tf.Variable(tf.truncated_normal([vocab_size, embed_dim], stddev=0.1), \n",
    "                            dtype=tf.float32, name=\"embedding\")\n",
    "    embedded_inputs = tf.nn.embedding_lookup(embedding, input_data)\n",
    "    return embedded_inputs\n",
    "\n",
    "\n",
    "\"\"\"\n",
    "DON'T MODIFY ANYTHING IN THIS CELL THAT IS BELOW THIS LINE\n",
    "\"\"\"\n",
    "tests.test_get_embed(get_embed)"
   ]
  },
  {
   "cell_type": "markdown",
   "metadata": {
    "deletable": true,
    "editable": true
   },
   "source": [
    "### Build RNN\n",
    "You created a RNN Cell in the `get_init_cell()` function.  Time to use the cell to create a RNN.\n",
    "- Build the RNN using the [`tf.nn.dynamic_rnn()`](https://www.tensorflow.org/api_docs/python/tf/nn/dynamic_rnn)\n",
    " - Apply the name \"final_state\" to the final state using [`tf.identity()`](https://www.tensorflow.org/api_docs/python/tf/identity)\n",
    "\n",
    "Return the outputs and final_state state in the following tuple `(Outputs, FinalState)` "
   ]
  },
  {
   "cell_type": "code",
   "execution_count": 11,
   "metadata": {
    "collapsed": false,
    "deletable": true,
    "editable": true
   },
   "outputs": [
    {
     "name": "stdout",
     "output_type": "stream",
     "text": [
      "Tests Passed\n"
     ]
    }
   ],
   "source": [
    "def build_rnn(cell, inputs):\n",
    "    \"\"\"\n",
    "    Create a RNN using a RNN Cell\n",
    "    :param cell: RNN Cell\n",
    "    :param inputs: Input text data\n",
    "    :return: Tuple (Outputs, Final State)\n",
    "    \"\"\"\n",
    "    outputs, final_state = tf.nn.dynamic_rnn(cell, inputs, dtype=tf.float32)\n",
    "    final_state = tf.identity(final_state, 'final_state')\n",
    "    return outputs, final_state\n",
    "\n",
    "\n",
    "\"\"\"\n",
    "DON'T MODIFY ANYTHING IN THIS CELL THAT IS BELOW THIS LINE\n",
    "\"\"\"\n",
    "tests.test_build_rnn(build_rnn)"
   ]
  },
  {
   "cell_type": "markdown",
   "metadata": {
    "deletable": true,
    "editable": true
   },
   "source": [
    "### Build the Neural Network\n",
    "Apply the functions you implemented above to:\n",
    "- Apply embedding to `input_data` using your `get_embed(input_data, vocab_size, embed_dim)` function.\n",
    "- Build RNN using `cell` and your `build_rnn(cell, inputs)` function.\n",
    "- Apply a fully connected layer with a linear activation and `vocab_size` as the number of outputs.\n",
    "\n",
    "Return the logits and final state in the following tuple (Logits, FinalState) "
   ]
  },
  {
   "cell_type": "code",
   "execution_count": 12,
   "metadata": {
    "collapsed": false,
    "deletable": true,
    "editable": true
   },
   "outputs": [
    {
     "name": "stdout",
     "output_type": "stream",
     "text": [
      "Tests Passed\n"
     ]
    }
   ],
   "source": [
    "def build_nn(cell, rnn_size, input_data, vocab_size):\n",
    "    \"\"\"\n",
    "    Build part of the neural network\n",
    "    :param cell: RNN cell\n",
    "    :param rnn_size: Size of rnns\n",
    "    :param input_data: Input data\n",
    "    :param vocab_size: Vocabulary size\n",
    "    :return: Tuple (Logits, FinalState)\n",
    "    \"\"\"\n",
    "    embedded_inputs = get_embed(input_data, vocab_size, rnn_size)\n",
    "    outputs, final_state = build_rnn(cell, embedded_inputs)\n",
    "    logits = tf.contrib.layers.fully_connected(outputs, vocab_size, \n",
    "                                               activation_fn=None, \n",
    "                                               weights_initializer=tf.truncated_normal_initializer(stddev=0.1), \n",
    "                                               biases_initializer=tf.zeros_initializer())\n",
    "    return logits, final_state\n",
    "\n",
    "\n",
    "\"\"\"\n",
    "DON'T MODIFY ANYTHING IN THIS CELL THAT IS BELOW THIS LINE\n",
    "\"\"\"\n",
    "tests.test_build_nn(build_nn)"
   ]
  },
  {
   "cell_type": "markdown",
   "metadata": {
    "deletable": true,
    "editable": true
   },
   "source": [
    "### Batches\n",
    "Implement `get_batches` to create batches of input and targets using `int_text`.  The batches should be a Numpy array with the shape `(number of batches, 2, batch size, sequence length)`. Each batch contains two elements:\n",
    "- The first element is a single batch of **input** with the shape `[batch size, sequence length]`\n",
    "- The second element is a single batch of **targets** with the shape `[batch size, sequence length]`\n",
    "\n",
    "If you can't fill the last batch with enough data, drop the last batch.\n",
    "\n",
    "For exmple, `get_batches([1, 2, 3, 4, 5, 6, 7, 8, 9, 10, 11, 12, 13, 14, 15], 2, 3)` would return a Numpy array of the following:\n",
    "```\n",
    "[\n",
    "  # First Batch\n",
    "  [\n",
    "    # Batch of Input\n",
    "    [[ 1  2  3], [ 7  8  9]],\n",
    "    # Batch of targets\n",
    "    [[ 2  3  4], [ 8  9 10]]\n",
    "  ],\n",
    " \n",
    "  # Second Batch\n",
    "  [\n",
    "    # Batch of Input\n",
    "    [[ 4  5  6], [10 11 12]],\n",
    "    # Batch of targets\n",
    "    [[ 5  6  7], [11 12 13]]\n",
    "  ]\n",
    "]\n",
    "```"
   ]
  },
  {
   "cell_type": "code",
   "execution_count": 13,
   "metadata": {
    "collapsed": false,
    "deletable": true,
    "editable": true
   },
   "outputs": [
    {
     "name": "stdout",
     "output_type": "stream",
     "text": [
      "Tests Passed\n"
     ]
    }
   ],
   "source": [
    "def get_batches(int_text, batch_size, seq_length):\n",
    "    \"\"\"\n",
    "    Return batches of input and target\n",
    "    :param int_text: Text with the words replaced by their ids\n",
    "    :param batch_size: The size of batch\n",
    "    :param seq_length: The length of sequence\n",
    "    :return: Batches as a Numpy array\n",
    "    \"\"\"\n",
    "    num_batches = len(int_text) // (batch_size * seq_length)\n",
    "    batches = np.zeros([num_batches, 2, batch_size, seq_length], dtype=np.int32)\n",
    "    for idx in range(0, len(int_text), seq_length):\n",
    "        batch_no = (idx // seq_length) % num_batches\n",
    "        batch_idx = idx // (seq_length * num_batches)\n",
    "        if (batch_idx == batch_size):\n",
    "            break\n",
    "        batches[batch_no, 0, batch_idx, ] = int_text[idx:idx + seq_length]\n",
    "        batches[batch_no, 1, batch_idx, ] = int_text[idx + 1:idx + seq_length + 1]\n",
    "    return batches\n",
    "\n",
    "\n",
    "\"\"\"\n",
    "DON'T MODIFY ANYTHING IN THIS CELL THAT IS BELOW THIS LINE\n",
    "\"\"\"\n",
    "tests.test_get_batches(get_batches)"
   ]
  },
  {
   "cell_type": "markdown",
   "metadata": {
    "deletable": true,
    "editable": true
   },
   "source": [
    "## Neural Network Training\n",
    "### Hyperparameters\n",
    "Tune the following parameters:\n",
    "\n",
    "- Set `num_epochs` to the number of epochs.\n",
    "- Set `batch_size` to the batch size.\n",
    "- Set `rnn_size` to the size of the RNNs.\n",
    "- Set `seq_length` to the length of sequence.\n",
    "- Set `learning_rate` to the learning rate.\n",
    "- Set `show_every_n_batches` to the number of batches the neural network should print progress."
   ]
  },
  {
   "cell_type": "code",
   "execution_count": 15,
   "metadata": {
    "collapsed": true,
    "deletable": true,
    "editable": true
   },
   "outputs": [],
   "source": [
    "# Number of Epochs\n",
    "num_epochs = 100\n",
    "# Batch Size\n",
    "batch_size = 128\n",
    "# RNN Size\n",
    "rnn_size = 512\n",
    "# Sequence Length\n",
    "seq_length = 64\n",
    "# Learning Rate\n",
    "learning_rate = 0.01\n",
    "# Show stats for every n number of batches\n",
    "show_every_n_batches = 100\n",
    "\n",
    "\"\"\"\n",
    "DON'T MODIFY ANYTHING IN THIS CELL THAT IS BELOW THIS LINE\n",
    "\"\"\"\n",
    "save_dir = './save'"
   ]
  },
  {
   "cell_type": "markdown",
   "metadata": {},
   "source": [
    "### Use TensorBoard to choose hyper-parameters"
   ]
  },
  {
   "cell_type": "code",
   "execution_count": 15,
   "metadata": {
    "collapsed": false,
    "scrolled": true
   },
   "outputs": [
    {
     "name": "stdout",
     "output_type": "stream",
     "text": [
      "logs/rnn_size=512,seq_len=16,lr=0.01,num_layers=4\n",
      "Epoch   0 Batch    0/33   train_loss = 8.822\n",
      "Epoch   3 Batch    1/33   train_loss = 5.935\n",
      "Epoch   6 Batch    2/33   train_loss = 5.976\n",
      "Epoch   9 Batch    3/33   train_loss = 5.928\n",
      "Epoch  12 Batch    4/33   train_loss = 5.595\n",
      "Epoch  15 Batch    5/33   train_loss = 5.511\n",
      "Epoch  18 Batch    6/33   train_loss = 5.018\n",
      "Epoch  21 Batch    7/33   train_loss = 4.899\n",
      "Epoch  24 Batch    8/33   train_loss = 4.621\n",
      "Epoch  27 Batch    9/33   train_loss = 4.529\n",
      "Epoch  30 Batch   10/33   train_loss = 4.430\n",
      "Epoch  33 Batch   11/33   train_loss = 4.118\n",
      "Epoch  36 Batch   12/33   train_loss = 4.196\n",
      "Epoch  39 Batch   13/33   train_loss = 3.997\n",
      "Epoch  42 Batch   14/33   train_loss = 3.900\n",
      "Epoch  45 Batch   15/33   train_loss = 3.586\n",
      "Epoch  48 Batch   16/33   train_loss = 3.647\n",
      "Epoch  51 Batch   17/33   train_loss = 3.616\n",
      "Epoch  54 Batch   18/33   train_loss = 3.294\n",
      "Epoch  57 Batch   19/33   train_loss = 3.170\n",
      "Epoch  60 Batch   20/33   train_loss = 3.223\n",
      "Epoch  63 Batch   21/33   train_loss = 2.954\n",
      "Epoch  66 Batch   22/33   train_loss = 2.887\n",
      "Epoch  69 Batch   23/33   train_loss = 2.937\n",
      "Epoch  72 Batch   24/33   train_loss = 2.814\n",
      "Epoch  75 Batch   25/33   train_loss = 2.492\n",
      "Epoch  78 Batch   26/33   train_loss = 2.430\n",
      "Epoch  81 Batch   27/33   train_loss = 2.512\n",
      "Epoch  84 Batch   28/33   train_loss = 2.360\n",
      "Epoch  87 Batch   29/33   train_loss = 2.241\n",
      "Epoch  90 Batch   30/33   train_loss = 2.210\n",
      "Epoch  93 Batch   31/33   train_loss = 2.055\n",
      "Epoch  96 Batch   32/33   train_loss = 1.930\n",
      "logs/rnn_size=512,seq_len=16,lr=0.001,num_layers=1\n",
      "Epoch   0 Batch    0/33   train_loss = 8.823\n",
      "Epoch   3 Batch    1/33   train_loss = 4.912\n",
      "Epoch   6 Batch    2/33   train_loss = 4.333\n",
      "Epoch   9 Batch    3/33   train_loss = 3.850\n",
      "Epoch  12 Batch    4/33   train_loss = 3.569\n",
      "Epoch  15 Batch    5/33   train_loss = 3.231\n",
      "Epoch  18 Batch    6/33   train_loss = 2.799\n",
      "Epoch  21 Batch    7/33   train_loss = 2.521\n",
      "Epoch  24 Batch    8/33   train_loss = 2.139\n",
      "Epoch  27 Batch    9/33   train_loss = 1.934\n",
      "Epoch  30 Batch   10/33   train_loss = 1.558\n",
      "Epoch  33 Batch   11/33   train_loss = 1.361\n",
      "Epoch  36 Batch   12/33   train_loss = 1.234\n",
      "Epoch  39 Batch   13/33   train_loss = 1.016\n",
      "Epoch  42 Batch   14/33   train_loss = 0.835\n",
      "Epoch  45 Batch   15/33   train_loss = 0.697\n",
      "Epoch  48 Batch   16/33   train_loss = 0.630\n",
      "Epoch  51 Batch   17/33   train_loss = 0.551\n",
      "Epoch  54 Batch   18/33   train_loss = 0.449\n",
      "Epoch  57 Batch   19/33   train_loss = 0.368\n",
      "Epoch  60 Batch   20/33   train_loss = 0.335\n",
      "Epoch  63 Batch   21/33   train_loss = 0.324\n",
      "Epoch  66 Batch   22/33   train_loss = 0.270\n",
      "Epoch  69 Batch   23/33   train_loss = 0.268\n",
      "Epoch  72 Batch   24/33   train_loss = 0.275\n",
      "Epoch  75 Batch   25/33   train_loss = 0.241\n",
      "Epoch  78 Batch   26/33   train_loss = 0.231\n",
      "Epoch  81 Batch   27/33   train_loss = 0.229\n",
      "Epoch  84 Batch   28/33   train_loss = 0.201\n",
      "Epoch  87 Batch   29/33   train_loss = 0.208\n",
      "Epoch  90 Batch   30/33   train_loss = 0.205\n",
      "Epoch  93 Batch   31/33   train_loss = 0.215\n",
      "Epoch  96 Batch   32/33   train_loss = 0.210\n",
      "logs/rnn_size=512,seq_len=16,lr=0.001,num_layers=2\n",
      "Epoch   0 Batch    0/33   train_loss = 8.823\n",
      "Epoch   3 Batch    1/33   train_loss = 5.014\n",
      "Epoch   6 Batch    2/33   train_loss = 4.505\n",
      "Epoch   9 Batch    3/33   train_loss = 4.118\n",
      "Epoch  12 Batch    4/33   train_loss = 3.914\n",
      "Epoch  15 Batch    5/33   train_loss = 3.682\n",
      "Epoch  18 Batch    6/33   train_loss = 3.329\n",
      "Epoch  21 Batch    7/33   train_loss = 3.029\n",
      "Epoch  24 Batch    8/33   train_loss = 2.724\n",
      "Epoch  27 Batch    9/33   train_loss = 2.521\n",
      "Epoch  30 Batch   10/33   train_loss = 2.116\n",
      "Epoch  33 Batch   11/33   train_loss = 1.901\n",
      "Epoch  36 Batch   12/33   train_loss = 1.827\n",
      "Epoch  39 Batch   13/33   train_loss = 1.475\n",
      "Epoch  42 Batch   14/33   train_loss = 1.200\n",
      "Epoch  45 Batch   15/33   train_loss = 1.033\n",
      "Epoch  48 Batch   16/33   train_loss = 0.869\n",
      "Epoch  51 Batch   17/33   train_loss = 0.747\n",
      "Epoch  54 Batch   18/33   train_loss = 0.589\n",
      "Epoch  57 Batch   19/33   train_loss = 0.455\n",
      "Epoch  60 Batch   20/33   train_loss = 0.386\n",
      "Epoch  63 Batch   21/33   train_loss = 0.375\n",
      "Epoch  66 Batch   22/33   train_loss = 0.287\n",
      "Epoch  69 Batch   23/33   train_loss = 0.285\n",
      "Epoch  72 Batch   24/33   train_loss = 0.277\n",
      "Epoch  75 Batch   25/33   train_loss = 0.241\n",
      "Epoch  78 Batch   26/33   train_loss = 0.241\n",
      "Epoch  81 Batch   27/33   train_loss = 0.227\n",
      "Epoch  84 Batch   28/33   train_loss = 0.198\n",
      "Epoch  87 Batch   29/33   train_loss = 0.206\n",
      "Epoch  90 Batch   30/33   train_loss = 0.204\n",
      "Epoch  93 Batch   31/33   train_loss = 0.215\n",
      "Epoch  96 Batch   32/33   train_loss = 0.208\n",
      "logs/rnn_size=512,seq_len=16,lr=0.001,num_layers=4\n",
      "Epoch   0 Batch    0/33   train_loss = 8.821\n",
      "Epoch   3 Batch    1/33   train_loss = 5.569\n",
      "Epoch   6 Batch    2/33   train_loss = 5.046\n",
      "Epoch   9 Batch    3/33   train_loss = 4.776\n",
      "Epoch  12 Batch    4/33   train_loss = 4.673\n",
      "Epoch  15 Batch    5/33   train_loss = 4.632\n",
      "Epoch  18 Batch    6/33   train_loss = 4.357\n",
      "Epoch  21 Batch    7/33   train_loss = 4.353\n",
      "Epoch  24 Batch    8/33   train_loss = 4.179\n",
      "Epoch  27 Batch    9/33   train_loss = 4.009\n",
      "Epoch  30 Batch   10/33   train_loss = 3.922\n",
      "Epoch  33 Batch   11/33   train_loss = 3.794\n",
      "Epoch  36 Batch   12/33   train_loss = 3.879\n",
      "Epoch  39 Batch   13/33   train_loss = 3.762\n",
      "Epoch  42 Batch   14/33   train_loss = 3.513\n",
      "Epoch  45 Batch   15/33   train_loss = 3.460\n",
      "Epoch  48 Batch   16/33   train_loss = 3.297\n",
      "Epoch  51 Batch   17/33   train_loss = 3.250\n",
      "Epoch  54 Batch   18/33   train_loss = 3.237\n",
      "Epoch  57 Batch   19/33   train_loss = 3.125\n",
      "Epoch  60 Batch   20/33   train_loss = 3.093\n",
      "Epoch  63 Batch   21/33   train_loss = 2.999\n",
      "Epoch  66 Batch   22/33   train_loss = 2.923\n",
      "Epoch  69 Batch   23/33   train_loss = 2.807\n",
      "Epoch  72 Batch   24/33   train_loss = 2.806\n",
      "Epoch  75 Batch   25/33   train_loss = 2.709\n",
      "Epoch  78 Batch   26/33   train_loss = 2.634\n",
      "Epoch  81 Batch   27/33   train_loss = 2.587\n",
      "Epoch  84 Batch   28/33   train_loss = 2.400\n",
      "Epoch  87 Batch   29/33   train_loss = 2.304\n",
      "Epoch  90 Batch   30/33   train_loss = 2.355\n",
      "Epoch  93 Batch   31/33   train_loss = 2.168\n",
      "Epoch  96 Batch   32/33   train_loss = 2.047\n",
      "logs/rnn_size=512,seq_len=32,lr=0.01,num_layers=1\n",
      "Epoch   0 Batch    0/16   train_loss = 8.824\n",
      "Epoch   6 Batch    4/16   train_loss = 3.189\n",
      "Epoch  12 Batch    8/16   train_loss = 1.558\n",
      "Epoch  18 Batch   12/16   train_loss = 0.674\n",
      "Epoch  25 Batch    0/16   train_loss = 0.189\n",
      "Epoch  31 Batch    4/16   train_loss = 0.118\n",
      "Epoch  37 Batch    8/16   train_loss = 0.091\n",
      "Epoch  43 Batch   12/16   train_loss = 0.097\n",
      "Epoch  50 Batch    0/16   train_loss = 0.086\n",
      "Epoch  56 Batch    4/16   train_loss = 0.089\n",
      "Epoch  62 Batch    8/16   train_loss = 0.085\n",
      "Epoch  68 Batch   12/16   train_loss = 0.091\n",
      "Epoch  75 Batch    0/16   train_loss = 0.083\n",
      "Epoch  81 Batch    4/16   train_loss = 0.086\n",
      "Epoch  87 Batch    8/16   train_loss = 0.083\n",
      "Epoch  93 Batch   12/16   train_loss = 0.091\n",
      "logs/rnn_size=512,seq_len=32,lr=0.01,num_layers=2\n",
      "Epoch   0 Batch    0/16   train_loss = 8.824\n",
      "Epoch   6 Batch    4/16   train_loss = 4.875\n",
      "Epoch  12 Batch    8/16   train_loss = 4.206\n",
      "Epoch  18 Batch   12/16   train_loss = 3.563\n",
      "Epoch  25 Batch    0/16   train_loss = 3.025\n",
      "Epoch  31 Batch    4/16   train_loss = 2.476\n",
      "Epoch  37 Batch    8/16   train_loss = 2.019\n",
      "Epoch  43 Batch   12/16   train_loss = 1.605\n",
      "Epoch  50 Batch    0/16   train_loss = 1.108\n",
      "Epoch  56 Batch    4/16   train_loss = 0.762\n",
      "Epoch  62 Batch    8/16   train_loss = 0.574\n",
      "Epoch  68 Batch   12/16   train_loss = 0.301\n",
      "Epoch  75 Batch    0/16   train_loss = 0.194\n",
      "Epoch  81 Batch    4/16   train_loss = 0.144\n",
      "Epoch  87 Batch    8/16   train_loss = 0.120\n",
      "Epoch  93 Batch   12/16   train_loss = 0.096\n",
      "logs/rnn_size=512,seq_len=32,lr=0.01,num_layers=4\n",
      "Epoch   0 Batch    0/16   train_loss = 8.821\n",
      "Epoch   6 Batch    4/16   train_loss = 6.020\n",
      "Epoch  12 Batch    8/16   train_loss = 6.039\n",
      "Epoch  18 Batch   12/16   train_loss = 5.991\n",
      "Epoch  25 Batch    0/16   train_loss = 5.966\n",
      "Epoch  31 Batch    4/16   train_loss = 5.979\n",
      "Epoch  37 Batch    8/16   train_loss = 5.991\n",
      "Epoch  43 Batch   12/16   train_loss = 5.926\n",
      "Epoch  50 Batch    0/16   train_loss = 5.885\n",
      "Epoch  56 Batch    4/16   train_loss = 5.383\n",
      "Epoch  62 Batch    8/16   train_loss = 5.084\n",
      "Epoch  68 Batch   12/16   train_loss = 4.759\n",
      "Epoch  75 Batch    0/16   train_loss = 4.463\n",
      "Epoch  81 Batch    4/16   train_loss = 4.322\n",
      "Epoch  87 Batch    8/16   train_loss = 4.184\n",
      "Epoch  93 Batch   12/16   train_loss = 3.944\n",
      "logs/rnn_size=512,seq_len=32,lr=0.001,num_layers=1\n",
      "Epoch   0 Batch    0/16   train_loss = 8.816\n",
      "Epoch   6 Batch    4/16   train_loss = 4.820\n",
      "Epoch  12 Batch    8/16   train_loss = 4.082\n",
      "Epoch  18 Batch   12/16   train_loss = 3.479\n",
      "Epoch  25 Batch    0/16   train_loss = 2.907\n",
      "Epoch  31 Batch    4/16   train_loss = 2.425\n",
      "Epoch  37 Batch    8/16   train_loss = 2.022\n",
      "Epoch  43 Batch   12/16   train_loss = 1.744\n",
      "Epoch  50 Batch    0/16   train_loss = 1.383\n",
      "Epoch  56 Batch    4/16   train_loss = 1.082\n",
      "Epoch  62 Batch    8/16   train_loss = 0.875\n",
      "Epoch  68 Batch   12/16   train_loss = 0.699\n",
      "Epoch  75 Batch    0/16   train_loss = 0.561\n",
      "Epoch  81 Batch    4/16   train_loss = 0.421\n",
      "Epoch  87 Batch    8/16   train_loss = 0.328\n",
      "Epoch  93 Batch   12/16   train_loss = 0.267\n",
      "logs/rnn_size=512,seq_len=32,lr=0.001,num_layers=2\n",
      "Epoch   0 Batch    0/16   train_loss = 8.821\n",
      "Epoch   6 Batch    4/16   train_loss = 5.076\n",
      "Epoch  12 Batch    8/16   train_loss = 4.485\n",
      "Epoch  18 Batch   12/16   train_loss = 4.013\n",
      "Epoch  25 Batch    0/16   train_loss = 3.643\n",
      "Epoch  31 Batch    4/16   train_loss = 3.310\n",
      "Epoch  37 Batch    8/16   train_loss = 3.067\n",
      "Epoch  43 Batch   12/16   train_loss = 2.732\n",
      "Epoch  50 Batch    0/16   train_loss = 2.452\n",
      "Epoch  56 Batch    4/16   train_loss = 2.214\n",
      "Epoch  62 Batch    8/16   train_loss = 1.908\n",
      "Epoch  68 Batch   12/16   train_loss = 1.649\n",
      "Epoch  75 Batch    0/16   train_loss = 1.455\n",
      "Epoch  81 Batch    4/16   train_loss = 1.216\n",
      "Epoch  87 Batch    8/16   train_loss = 1.058\n",
      "Epoch  93 Batch   12/16   train_loss = 0.872\n",
      "logs/rnn_size=512,seq_len=32,lr=0.001,num_layers=4\n",
      "Epoch   0 Batch    0/16   train_loss = 8.821\n",
      "Epoch   6 Batch    4/16   train_loss = 5.614\n",
      "Epoch  12 Batch    8/16   train_loss = 5.033\n",
      "Epoch  18 Batch   12/16   train_loss = 4.716\n",
      "Epoch  25 Batch    0/16   train_loss = 4.459\n",
      "Epoch  31 Batch    4/16   train_loss = 4.235\n",
      "Epoch  37 Batch    8/16   train_loss = 4.178\n",
      "Epoch  43 Batch   12/16   train_loss = 4.094\n",
      "Epoch  50 Batch    0/16   train_loss = 3.866\n",
      "Epoch  56 Batch    4/16   train_loss = 3.724\n",
      "Epoch  62 Batch    8/16   train_loss = 3.567\n",
      "Epoch  68 Batch   12/16   train_loss = 3.493\n",
      "Epoch  75 Batch    0/16   train_loss = 3.263\n",
      "Epoch  81 Batch    4/16   train_loss = 3.259\n",
      "Epoch  87 Batch    8/16   train_loss = 3.003\n",
      "Epoch  93 Batch   12/16   train_loss = 3.009\n",
      "logs/rnn_size=512,seq_len=64,lr=0.01,num_layers=1\n",
      "Epoch   0 Batch    0/8   train_loss = 8.820\n",
      "Epoch  12 Batch    4/8   train_loss = 3.104\n",
      "Epoch  25 Batch    0/8   train_loss = 1.968\n",
      "Epoch  37 Batch    4/8   train_loss = 1.012\n",
      "Epoch  50 Batch    0/8   train_loss = 0.495\n",
      "Epoch  62 Batch    4/8   train_loss = 0.211\n",
      "Epoch  75 Batch    0/8   train_loss = 0.084\n",
      "Epoch  87 Batch    4/8   train_loss = 0.052\n",
      "logs/rnn_size=512,seq_len=64,lr=0.01,num_layers=2\n",
      "Epoch   0 Batch    0/8   train_loss = 8.823\n",
      "Epoch  12 Batch    4/8   train_loss = 5.698\n",
      "Epoch  25 Batch    0/8   train_loss = 4.769\n",
      "Epoch  37 Batch    4/8   train_loss = 4.093\n",
      "Epoch  50 Batch    0/8   train_loss = 3.450\n",
      "Epoch  62 Batch    4/8   train_loss = 2.969\n",
      "Epoch  75 Batch    0/8   train_loss = 2.184\n",
      "Epoch  87 Batch    4/8   train_loss = 1.896\n",
      "logs/rnn_size=512,seq_len=64,lr=0.01,num_layers=4\n",
      "Epoch   0 Batch    0/8   train_loss = 8.822\n",
      "Epoch  12 Batch    4/8   train_loss = 6.017\n",
      "Epoch  25 Batch    0/8   train_loss = 5.922\n",
      "Epoch  37 Batch    4/8   train_loss = 6.001\n",
      "Epoch  50 Batch    0/8   train_loss = 5.916\n",
      "Epoch  62 Batch    4/8   train_loss = 5.993\n",
      "Epoch  75 Batch    0/8   train_loss = 5.902\n",
      "Epoch  87 Batch    4/8   train_loss = 5.988\n",
      "logs/rnn_size=512,seq_len=64,lr=0.001,num_layers=1\n",
      "Epoch   0 Batch    0/8   train_loss = 8.814\n",
      "Epoch  12 Batch    4/8   train_loss = 4.740\n",
      "Epoch  25 Batch    0/8   train_loss = 3.709\n",
      "Epoch  37 Batch    4/8   train_loss = 3.096\n",
      "Epoch  50 Batch    0/8   train_loss = 2.424\n",
      "Epoch  62 Batch    4/8   train_loss = 1.911\n",
      "Epoch  75 Batch    0/8   train_loss = 1.482\n",
      "Epoch  87 Batch    4/8   train_loss = 1.109\n",
      "logs/rnn_size=512,seq_len=64,lr=0.001,num_layers=2\n",
      "Epoch   0 Batch    0/8   train_loss = 8.823\n",
      "Epoch  12 Batch    4/8   train_loss = 4.942\n",
      "Epoch  25 Batch    0/8   train_loss = 4.050\n",
      "Epoch  37 Batch    4/8   train_loss = 3.692\n",
      "Epoch  50 Batch    0/8   train_loss = 3.000\n",
      "Epoch  62 Batch    4/8   train_loss = 2.461\n",
      "Epoch  75 Batch    0/8   train_loss = 2.032\n",
      "Epoch  87 Batch    4/8   train_loss = 1.529\n",
      "logs/rnn_size=512,seq_len=64,lr=0.001,num_layers=4\n",
      "Epoch   0 Batch    0/8   train_loss = 8.822\n",
      "Epoch  12 Batch    4/8   train_loss = 5.866\n",
      "Epoch  25 Batch    0/8   train_loss = 4.910\n",
      "Epoch  37 Batch    4/8   train_loss = 4.648\n",
      "Epoch  50 Batch    0/8   train_loss = 4.310\n",
      "Epoch  62 Batch    4/8   train_loss = 4.111\n",
      "Epoch  75 Batch    0/8   train_loss = 3.759\n",
      "Epoch  87 Batch    4/8   train_loss = 3.718\n"
     ]
    }
   ],
   "source": [
    "from collections import namedtuple\n",
    "\n",
    "def build_model(rnn_size_, number_of_layers):\n",
    "    from tensorflow.contrib import seq2seq\n",
    "\n",
    "    train_graph = tf.Graph()\n",
    "    with train_graph.as_default():\n",
    "        vocab_size = len(int_to_vocab)\n",
    "        input_text, targets, lr = get_inputs()\n",
    "        input_data_shape = tf.shape(input_text)\n",
    "        cell, initial_state = get_init_cell(input_data_shape[0], rnn_size_, number_of_layers)\n",
    "        logits, final_state = build_nn(cell, rnn_size_, input_text, vocab_size)\n",
    "\n",
    "        # Probabilities for generating words\n",
    "        probs = tf.nn.softmax(logits, name='probs')\n",
    "        tf.summary.histogram('probs', probs)\n",
    "\n",
    "        # Loss function\n",
    "        cost = seq2seq.sequence_loss(\n",
    "            logits,\n",
    "            targets,\n",
    "            tf.ones([input_data_shape[0], input_data_shape[1]]))\n",
    "        tf.summary.scalar('cost', cost)\n",
    "\n",
    "        # Optimizer\n",
    "        optimizer = tf.train.AdamOptimizer(lr)\n",
    "\n",
    "        # Gradient Clipping\n",
    "        gradients = optimizer.compute_gradients(cost)\n",
    "        capped_gradients = [(tf.clip_by_value(grad, -1., 1.), var) for grad, var in gradients]\n",
    "        train_op = optimizer.apply_gradients(capped_gradients)\n",
    "    \n",
    "        merged = tf.summary.merge_all()\n",
    "    \n",
    "    # Export the nodes \n",
    "    export_nodes = ['train_graph', 'input_text', 'targets', 'lr', \n",
    "                    'initial_state', 'final_state',\n",
    "                    'cost', 'train_op', 'merged']\n",
    "    Graph = namedtuple('Graph', export_nodes)\n",
    "    local_dict = locals()\n",
    "    graph = Graph(*[local_dict[each] for each in export_nodes])\n",
    "    \n",
    "    return graph\n",
    "\n",
    "def train_model(seq_length_, num_epochs_, lr_, model, file_writer):\n",
    "    batches = get_batches(int_text, batch_size, seq_length_)\n",
    "\n",
    "    with tf.Session(graph=model.train_graph) as sess:\n",
    "        sess.run(tf.global_variables_initializer())\n",
    "\n",
    "        for epoch_i in range(num_epochs_):\n",
    "            state = sess.run(model.initial_state, {model.input_text: batches[0][0]})\n",
    "\n",
    "            for batch_i, (x, y) in enumerate(batches):\n",
    "                iteration = epoch_i * len(batches) + batch_i\n",
    "                feed = {\n",
    "                    model.input_text: x,\n",
    "                    model.targets: y,\n",
    "                    model.initial_state: state,\n",
    "                    model.lr: lr_}\n",
    "                summary, train_loss, state, _ = sess.run([model.merged,\n",
    "                                                          model.cost, \n",
    "                                                          model.final_state, \n",
    "                                                          model.train_op], feed)\n",
    "\n",
    "                # Show every <show_every_n_batches> batches\n",
    "                if iteration % show_every_n_batches == 0:\n",
    "                    print('Epoch {:>3} Batch {:>4}/{}   train_loss = {:.3f}'.format(\n",
    "                        epoch_i,\n",
    "                        batch_i,\n",
    "                        len(batches),\n",
    "                        train_loss))\n",
    "\n",
    "                file_writer.add_summary(summary, iteration)\n",
    "\n",
    "# for rnn_size_ in [64, 128, 256, 512]:\n",
    "for rnn_size_ in [512]:\n",
    "    for seq_length_ in [16, 32, 64]:\n",
    "        for lr_ in [0.01, 0.001]:\n",
    "            for number_of_layers in [1, 2, 4]:\n",
    "                if seq_length_ == 16 and lr_ > 0.001 and number_of_layers < 4:\n",
    "                    continue\n",
    "                log_str = \"logs/rnn_size={},seq_len={},lr={},num_layers={}\".format(rnn_size_, \n",
    "                                                                          seq_length_, \n",
    "                                                                          lr_, \n",
    "                                                                          number_of_layers)\n",
    "                print(log_str)\n",
    "                writer = tf.summary.FileWriter(log_str)\n",
    "                model = build_model(rnn_size_, number_of_layers)\n",
    "                train_model(seq_length_, 100, lr_, model, writer)"
   ]
  },
  {
   "cell_type": "markdown",
   "metadata": {},
   "source": [
    "The best result is the combination below:\n",
    "\n",
    "``` python\n",
    "rnn_size = 512\n",
    "seq_length = 64\n",
    "number_of_layers = 1\n",
    "learning_rate = 0.01\n",
    "```\n",
    "![](tensorboard-screenshot.png)"
   ]
  },
  {
   "cell_type": "markdown",
   "metadata": {
    "deletable": true,
    "editable": true
   },
   "source": [
    "### Build the Graph\n",
    "Build the graph using the neural network you implemented."
   ]
  },
  {
   "cell_type": "code",
   "execution_count": 16,
   "metadata": {
    "collapsed": false,
    "deletable": true,
    "editable": true
   },
   "outputs": [],
   "source": [
    "\"\"\"\n",
    "DON'T MODIFY ANYTHING IN THIS CELL\n",
    "\"\"\"\n",
    "from tensorflow.contrib import seq2seq\n",
    "\n",
    "train_graph = tf.Graph()\n",
    "with train_graph.as_default():\n",
    "    vocab_size = len(int_to_vocab)\n",
    "    input_text, targets, lr = get_inputs()\n",
    "    input_data_shape = tf.shape(input_text)\n",
    "    cell, initial_state = get_init_cell(input_data_shape[0], rnn_size)\n",
    "    logits, final_state = build_nn(cell, rnn_size, input_text, vocab_size)\n",
    "\n",
    "    # Probabilities for generating words\n",
    "    probs = tf.nn.softmax(logits, name='probs')\n",
    "\n",
    "    # Loss function\n",
    "    cost = seq2seq.sequence_loss(\n",
    "        logits,\n",
    "        targets,\n",
    "        tf.ones([input_data_shape[0], input_data_shape[1]]))\n",
    "\n",
    "    # Optimizer\n",
    "    optimizer = tf.train.AdamOptimizer(lr)\n",
    "\n",
    "    # Gradient Clipping\n",
    "    gradients = optimizer.compute_gradients(cost)\n",
    "    capped_gradients = [(tf.clip_by_value(grad, -1., 1.), var) for grad, var in gradients]\n",
    "    train_op = optimizer.apply_gradients(capped_gradients)"
   ]
  },
  {
   "cell_type": "markdown",
   "metadata": {
    "deletable": true,
    "editable": true
   },
   "source": [
    "## Train\n",
    "Train the neural network on the preprocessed data.  If you have a hard time getting a good loss, check the [forms](https://discussions.udacity.com/) to see if anyone is having the same problem."
   ]
  },
  {
   "cell_type": "code",
   "execution_count": 17,
   "metadata": {
    "collapsed": false,
    "deletable": true,
    "editable": true
   },
   "outputs": [
    {
     "name": "stdout",
     "output_type": "stream",
     "text": [
      "Epoch   0 Batch    0/8   train_loss = 8.824\n",
      "Epoch  12 Batch    4/8   train_loss = 2.765\n",
      "Epoch  25 Batch    0/8   train_loss = 1.311\n",
      "Epoch  37 Batch    4/8   train_loss = 0.402\n",
      "Epoch  50 Batch    0/8   train_loss = 0.153\n",
      "Epoch  62 Batch    4/8   train_loss = 0.054\n",
      "Epoch  75 Batch    0/8   train_loss = 0.041\n",
      "Epoch  87 Batch    4/8   train_loss = 0.038\n",
      "Model Trained and Saved\n"
     ]
    }
   ],
   "source": [
    "\"\"\"\n",
    "DON'T MODIFY ANYTHING IN THIS CELL\n",
    "\"\"\"\n",
    "batches = get_batches(int_text, batch_size, seq_length)\n",
    "\n",
    "with tf.Session(graph=train_graph) as sess:\n",
    "    sess.run(tf.global_variables_initializer())\n",
    "\n",
    "    for epoch_i in range(num_epochs):\n",
    "        state = sess.run(initial_state, {input_text: batches[0][0]})\n",
    "\n",
    "        for batch_i, (x, y) in enumerate(batches):\n",
    "            feed = {\n",
    "                input_text: x,\n",
    "                targets: y,\n",
    "                initial_state: state,\n",
    "                lr: learning_rate}\n",
    "            train_loss, state, _ = sess.run([cost, final_state, train_op], feed)\n",
    "\n",
    "            # Show every <show_every_n_batches> batches\n",
    "            if (epoch_i * len(batches) + batch_i) % show_every_n_batches == 0:\n",
    "                print('Epoch {:>3} Batch {:>4}/{}   train_loss = {:.3f}'.format(\n",
    "                    epoch_i,\n",
    "                    batch_i,\n",
    "                    len(batches),\n",
    "                    train_loss))\n",
    "\n",
    "    # Save Model\n",
    "    saver = tf.train.Saver()\n",
    "    saver.save(sess, save_dir)\n",
    "    print('Model Trained and Saved')"
   ]
  },
  {
   "cell_type": "markdown",
   "metadata": {
    "deletable": true,
    "editable": true
   },
   "source": [
    "## Save Parameters\n",
    "Save `seq_length` and `save_dir` for generating a new TV script."
   ]
  },
  {
   "cell_type": "code",
   "execution_count": 18,
   "metadata": {
    "collapsed": false,
    "deletable": true,
    "editable": true
   },
   "outputs": [],
   "source": [
    "\"\"\"\n",
    "DON'T MODIFY ANYTHING IN THIS CELL\n",
    "\"\"\"\n",
    "# Save parameters for checkpoint\n",
    "helper.save_params((seq_length, save_dir))"
   ]
  },
  {
   "cell_type": "markdown",
   "metadata": {
    "deletable": true,
    "editable": true
   },
   "source": [
    "# Checkpoint"
   ]
  },
  {
   "cell_type": "code",
   "execution_count": 19,
   "metadata": {
    "collapsed": false,
    "deletable": true,
    "editable": true
   },
   "outputs": [],
   "source": [
    "\"\"\"\n",
    "DON'T MODIFY ANYTHING IN THIS CELL\n",
    "\"\"\"\n",
    "import tensorflow as tf\n",
    "import numpy as np\n",
    "import helper\n",
    "import problem_unittests as tests\n",
    "\n",
    "_, vocab_to_int, int_to_vocab, token_dict = helper.load_preprocess()\n",
    "seq_length, load_dir = helper.load_params()"
   ]
  },
  {
   "cell_type": "markdown",
   "metadata": {
    "deletable": true,
    "editable": true
   },
   "source": [
    "## Implement Generate Functions\n",
    "### Get Tensors\n",
    "Get tensors from `loaded_graph` using the function [`get_tensor_by_name()`](https://www.tensorflow.org/api_docs/python/tf/Graph#get_tensor_by_name).  Get the tensors using the following names:\n",
    "- \"input:0\"\n",
    "- \"initial_state:0\"\n",
    "- \"final_state:0\"\n",
    "- \"probs:0\"\n",
    "\n",
    "Return the tensors in the following tuple `(InputTensor, InitialStateTensor, FinalStateTensor, ProbsTensor)` "
   ]
  },
  {
   "cell_type": "code",
   "execution_count": 20,
   "metadata": {
    "collapsed": false,
    "deletable": true,
    "editable": true
   },
   "outputs": [
    {
     "name": "stdout",
     "output_type": "stream",
     "text": [
      "Tests Passed\n"
     ]
    }
   ],
   "source": [
    "def get_tensors(loaded_graph):\n",
    "    \"\"\"\n",
    "    Get input, initial state, final state, and probabilities tensor from <loaded_graph>\n",
    "    :param loaded_graph: TensorFlow graph loaded from file\n",
    "    :return: Tuple (InputTensor, InitialStateTensor, FinalStateTensor, ProbsTensor)\n",
    "    \"\"\"\n",
    "    inputs = loaded_graph.get_tensor_by_name('input:0')\n",
    "    init_state = loaded_graph.get_tensor_by_name('initial_state:0')\n",
    "    final_state = loaded_graph.get_tensor_by_name('final_state:0')\n",
    "    probs = loaded_graph.get_tensor_by_name('probs:0')\n",
    "    return inputs, init_state, final_state, probs\n",
    "\n",
    "\n",
    "\"\"\"\n",
    "DON'T MODIFY ANYTHING IN THIS CELL THAT IS BELOW THIS LINE\n",
    "\"\"\"\n",
    "tests.test_get_tensors(get_tensors)"
   ]
  },
  {
   "cell_type": "markdown",
   "metadata": {
    "deletable": true,
    "editable": true
   },
   "source": [
    "### Choose Word\n",
    "Implement the `pick_word()` function to select the next word using `probabilities`."
   ]
  },
  {
   "cell_type": "code",
   "execution_count": 21,
   "metadata": {
    "collapsed": false,
    "deletable": true,
    "editable": true
   },
   "outputs": [
    {
     "name": "stdout",
     "output_type": "stream",
     "text": [
      "Tests Passed\n"
     ]
    }
   ],
   "source": [
    "def pick_word(probabilities, int_to_vocab):\n",
    "    \"\"\"\n",
    "    Pick the next word in the generated text\n",
    "    :param probabilities: Probabilites of the next word\n",
    "    :param int_to_vocab: Dictionary of word ids as the keys and words as the values\n",
    "    :return: String of the predicted word\n",
    "    \"\"\"\n",
    "    int_word = np.random.choice(len(int_to_vocab), p=probabilities)\n",
    "    return int_to_vocab[int_word]\n",
    "\n",
    "\n",
    "\"\"\"\n",
    "DON'T MODIFY ANYTHING IN THIS CELL THAT IS BELOW THIS LINE\n",
    "\"\"\"\n",
    "tests.test_pick_word(pick_word)"
   ]
  },
  {
   "cell_type": "markdown",
   "metadata": {
    "deletable": true,
    "editable": true
   },
   "source": [
    "## Generate TV Script\n",
    "This will generate the TV script for you.  Set `gen_length` to the length of TV script you want to generate."
   ]
  },
  {
   "cell_type": "code",
   "execution_count": 22,
   "metadata": {
    "collapsed": false,
    "deletable": true,
    "editable": true
   },
   "outputs": [
    {
     "name": "stdout",
     "output_type": "stream",
     "text": [
      "moe_szyslak: aw jeez, i don't look like that.\n",
      "moe_szyslak: the point is, this drink is the ultimate brain bleacher.(slight menace) one swig wipes out the last day of your life.\n",
      "krusty_the_clown:(entering, upset) gimme one of those forget-me-drinks-- i made a mistake i gotta wipe out! i was trying to get you sat-is-fac-tion / glove slap...\n",
      "lisa_simpson: daaaaad! you're not listening to me.\n",
      "homer_simpson:(grumbling) lousy, stupid denver.\n",
      "homer_simpson: the usual, moe. a beer and a wad of bills.\n",
      "moe_szyslak:(sarcastic laugh) okay, ya lush.\n",
      "carl_carlson:(distraught) hey, has anybody seen mike rotch, lately?\n",
      "lenny_leonard: sure the no moe. is there a loser and that can make up superhero drink names and charge 'em double. like, uh, nick fury, agent of schnapps; sex in the batmobile; and the big deal.(as happy)\n",
      "moe_szyslak:(upbeat) ah, morning, homer. tomorrow night at eight, you\n"
     ]
    }
   ],
   "source": [
    "gen_length = 200\n",
    "# homer_simpson, moe_szyslak, or Barney_Gumble\n",
    "prime_word = 'moe_szyslak'\n",
    "\n",
    "\"\"\"\n",
    "DON'T MODIFY ANYTHING IN THIS CELL THAT IS BELOW THIS LINE\n",
    "\"\"\"\n",
    "loaded_graph = tf.Graph()\n",
    "with tf.Session(graph=loaded_graph) as sess:\n",
    "    # Load saved model\n",
    "    loader = tf.train.import_meta_graph(load_dir + '.meta')\n",
    "    loader.restore(sess, load_dir)\n",
    "\n",
    "    # Get Tensors from loaded model\n",
    "    input_text, initial_state, final_state, probs = get_tensors(loaded_graph)\n",
    "\n",
    "    # Sentences generation setup\n",
    "    gen_sentences = [prime_word + ':']\n",
    "    prev_state = sess.run(initial_state, {input_text: np.array([[1]])})\n",
    "\n",
    "    # Generate sentences\n",
    "    for n in range(gen_length):\n",
    "        # Dynamic Input\n",
    "        dyn_input = [[vocab_to_int[word] for word in gen_sentences[-seq_length:]]]\n",
    "        dyn_seq_length = len(dyn_input[0])\n",
    "\n",
    "        # Get Prediction\n",
    "        probabilities, prev_state = sess.run(\n",
    "            [probs, final_state],\n",
    "            {input_text: dyn_input, initial_state: prev_state})\n",
    "        \n",
    "        pred_word = pick_word(probabilities[dyn_seq_length-1], int_to_vocab)\n",
    "\n",
    "        gen_sentences.append(pred_word)\n",
    "    \n",
    "    # Remove tokens\n",
    "    tv_script = ' '.join(gen_sentences)\n",
    "    for key, token in token_dict.items():\n",
    "        ending = ' ' if key in ['\\n', '(', '\"'] else ''\n",
    "        tv_script = tv_script.replace(' ' + token.lower(), key)\n",
    "    tv_script = tv_script.replace('\\n ', '\\n')\n",
    "    tv_script = tv_script.replace('( ', '(')\n",
    "        \n",
    "    print(tv_script)"
   ]
  },
  {
   "cell_type": "markdown",
   "metadata": {
    "deletable": true,
    "editable": true
   },
   "source": [
    "# The TV Script is Nonsensical\n",
    "It's ok if the TV script doesn't make any sense.  We trained on less than a megabyte of text.  In order to get good results, you'll have to use a smaller vocabulary or get more data.  Luckly there's more data!  As we mentioned in the begging of this project, this is a subset of [another dataset](https://www.kaggle.com/wcukierski/the-simpsons-by-the-data).  We didn't have you train on all the data, because that would take too long.  However, you are free to train your neural network on all the data.  After you complete the project, of course.\n",
    "# Submitting This Project\n",
    "When submitting this project, make sure to run all the cells before saving the notebook. Save the notebook file as \"dlnd_tv_script_generation.ipynb\" and save it as a HTML file under \"File\" -> \"Download as\". Include the \"helper.py\" and \"problem_unittests.py\" files in your submission."
   ]
  }
 ],
 "metadata": {
  "kernelspec": {
   "display_name": "Python 3",
   "language": "python",
   "name": "python3"
  },
  "language_info": {
   "codemirror_mode": {
    "name": "ipython",
    "version": 3
   },
   "file_extension": ".py",
   "mimetype": "text/x-python",
   "name": "python",
   "nbconvert_exporter": "python",
   "pygments_lexer": "ipython3",
   "version": "3.6.0"
  }
 },
 "nbformat": 4,
 "nbformat_minor": 0
}
