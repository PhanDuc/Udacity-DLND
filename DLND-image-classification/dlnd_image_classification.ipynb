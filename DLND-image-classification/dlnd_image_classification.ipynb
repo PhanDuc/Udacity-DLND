{
 "cells": [
  {
   "cell_type": "markdown",
   "metadata": {
    "collapsed": true
   },
   "source": [
    "# Image Classification\n",
    "In this project, you'll classify images from the [CIFAR-10 dataset](https://www.cs.toronto.edu/~kriz/cifar.html).  The dataset consists of airplanes, dogs, cats, and other objects. You'll preprocess the images, then train a convolutional neural network on all the samples. The images need to be normalized and the labels need to be one-hot encoded.  You'll get to apply what you learned and build a convolutional, max pooling, dropout, and fully connected layers.  At the end, you'll get to see your neural network's predictions on the sample images.\n",
    "## Get the Data\n",
    "Run the following cell to download the [CIFAR-10 dataset for python](https://www.cs.toronto.edu/~kriz/cifar-10-python.tar.gz)."
   ]
  },
  {
   "cell_type": "code",
   "execution_count": 1,
   "metadata": {
    "collapsed": false
   },
   "outputs": [
    {
     "name": "stdout",
     "output_type": "stream",
     "text": [
      "All files found!\n"
     ]
    }
   ],
   "source": [
    "\"\"\"\n",
    "DON'T MODIFY ANYTHING IN THIS CELL THAT IS BELOW THIS LINE\n",
    "\"\"\"\n",
    "from urllib.request import urlretrieve\n",
    "from os.path import isfile, isdir\n",
    "from tqdm import tqdm\n",
    "import problem_unittests as tests\n",
    "import tarfile\n",
    "\n",
    "cifar10_dataset_folder_path = 'cifar-10-batches-py'\n",
    "\n",
    "class DLProgress(tqdm):\n",
    "    last_block = 0\n",
    "\n",
    "    def hook(self, block_num=1, block_size=1, total_size=None):\n",
    "        self.total = total_size\n",
    "        self.update((block_num - self.last_block) * block_size)\n",
    "        self.last_block = block_num\n",
    "\n",
    "if not isfile('cifar-10-python.tar.gz'):\n",
    "    with DLProgress(unit='B', unit_scale=True, miniters=1, desc='CIFAR-10 Dataset') as pbar:\n",
    "        urlretrieve(\n",
    "            'https://www.cs.toronto.edu/~kriz/cifar-10-python.tar.gz',\n",
    "            'cifar-10-python.tar.gz',\n",
    "            pbar.hook)\n",
    "\n",
    "if not isdir(cifar10_dataset_folder_path):\n",
    "    with tarfile.open('cifar-10-python.tar.gz') as tar:\n",
    "        tar.extractall()\n",
    "        tar.close()\n",
    "\n",
    "\n",
    "tests.test_folder_path(cifar10_dataset_folder_path)"
   ]
  },
  {
   "cell_type": "markdown",
   "metadata": {},
   "source": [
    "## Explore the Data\n",
    "The dataset is broken into batches to prevent your machine from running out of memory.  The CIFAR-10 dataset consists of 5 batches, named `data_batch_1`, `data_batch_2`, etc.. Each batch contains the labels and images that are one of the following:\n",
    "* airplane\n",
    "* automobile\n",
    "* bird\n",
    "* cat\n",
    "* deer\n",
    "* dog\n",
    "* frog\n",
    "* horse\n",
    "* ship\n",
    "* truck\n",
    "\n",
    "Understanding a dataset is part of making predictions on the data.  Play around with the code cell below by changing the `batch_id` and `sample_id`. The `batch_id` is the id for a batch (1-5). The `sample_id` is the id for a image and label pair in the batch.\n",
    "\n",
    "Ask yourself \"What are all possible labels?\", \"What is the range of values for the image data?\", \"Are the labels in order or random?\".  Answers to questions like these will help you preprocess the data and end up with better predictions."
   ]
  },
  {
   "cell_type": "code",
   "execution_count": 2,
   "metadata": {
    "collapsed": false
   },
   "outputs": [
    {
     "name": "stdout",
     "output_type": "stream",
     "text": [
      "\n",
      "Stats of batch 1:\n",
      "Samples: 10000\n",
      "Label Counts: {0: 1005, 1: 974, 2: 1032, 3: 1016, 4: 999, 5: 937, 6: 1030, 7: 1001, 8: 1025, 9: 981}\n",
      "First 20 Labels: [6, 9, 9, 4, 1, 1, 2, 7, 8, 3, 4, 7, 7, 2, 9, 9, 9, 3, 2, 6]\n",
      "\n",
      "Example of Image 89:\n",
      "Image - Min Value: 12 Max Value: 249\n",
      "Image - Shape: (32, 32, 3)\n",
      "Label - Label Id: 4 Name: deer\n"
     ]
    },
    {
     "data": {
      "image/png": "[encoded data removed]",
      "text/plain": [
       "<matplotlib.figure.Figure at 0x11bc1edd8>"
      ]
     },
     "metadata": {
      "image/png": {
       "height": 250,
       "width": 253
      }
     },
     "output_type": "display_data"
    }
   ],
   "source": [
    "%matplotlib inline\n",
    "%config InlineBackend.figure_format = 'retina'\n",
    "\n",
    "import helper\n",
    "import numpy as np\n",
    "import tensorflow as tf\n",
    "\n",
    "# Explore the dataset\n",
    "batch_id = 1\n",
    "sample_id = 89\n",
    "helper.display_stats(cifar10_dataset_folder_path, batch_id, sample_id)"
   ]
  },
  {
   "cell_type": "markdown",
   "metadata": {},
   "source": [
    "## Implement Preprocess Functions\n",
    "### Normalize\n",
    "In the cell below, implement the `normalize` function to take in image data, `x`, and return it as a normalized Numpy array. The values should be in the range of 0 to 1, inclusive.  The return object should be the same shape as `x`."
   ]
  },
  {
   "cell_type": "code",
   "execution_count": 3,
   "metadata": {
    "collapsed": false
   },
   "outputs": [
    {
     "name": "stdout",
     "output_type": "stream",
     "text": [
      "Tests Passed\n"
     ]
    }
   ],
   "source": [
    "def normalize(x):\n",
    "    \"\"\"\n",
    "    Normalize a list of sample image data in the range of 0 to 1\n",
    "    : x: List of image data.  The image shape is (32, 32, 3)\n",
    "    : return: Numpy array of normalize data\n",
    "    \"\"\"\n",
    "    return x / 255\n",
    "\n",
    "\n",
    "\"\"\"\n",
    "DON'T MODIFY ANYTHING IN THIS CELL THAT IS BELOW THIS LINE\n",
    "\"\"\"\n",
    "tests.test_normalize(normalize)"
   ]
  },
  {
   "cell_type": "markdown",
   "metadata": {},
   "source": [
    "### One-hot encode\n",
    "Just like the previous code cell, you'll be implementing a function for preprocessing.  This time, you'll implement the `one_hot_encode` function. The input, `x`, are a list of labels.  Implement the function to return the list of labels as One-Hot encoded Numpy array.  The possible values for labels are 0 to 9. The one-hot encoding function should return the same encoding for each value between each call to `one_hot_encode`.  Make sure to save the map of encodings outside the function.\n",
    "\n",
    "Hint: Don't reinvent the wheel."
   ]
  },
  {
   "cell_type": "code",
   "execution_count": 4,
   "metadata": {
    "collapsed": false
   },
   "outputs": [
    {
     "name": "stdout",
     "output_type": "stream",
     "text": [
      "Tests Passed\n"
     ]
    }
   ],
   "source": [
    "def one_hot_encode(x):\n",
    "    \"\"\"\n",
    "    One hot encode a list of sample labels. Return a one-hot encoded vector for each label.\n",
    "    : x: List of sample Labels\n",
    "    : return: Numpy array of one-hot encoded labels\n",
    "    \"\"\"\n",
    "    one_hot = np.zeros((len(x), 10), np.int_)\n",
    "    for i, label in enumerate(x):\n",
    "        one_hot[i][label] = 1\n",
    "    return one_hot\n",
    "\n",
    "\n",
    "\"\"\"\n",
    "DON'T MODIFY ANYTHING IN THIS CELL THAT IS BELOW THIS LINE\n",
    "\"\"\"\n",
    "tests.test_one_hot_encode(one_hot_encode)"
   ]
  },
  {
   "cell_type": "markdown",
   "metadata": {},
   "source": [
    "### Randomize Data\n",
    "As you saw from exploring the data above, the order of the samples are randomized.  It doesn't hurt to randomize it again, but you don't need to for this dataset."
   ]
  },
  {
   "cell_type": "markdown",
   "metadata": {},
   "source": [
    "## Preprocess all the data and save it\n",
    "Running the code cell below will preprocess all the CIFAR-10 data and save it to file. The code below also uses 10% of the training data for validation."
   ]
  },
  {
   "cell_type": "code",
   "execution_count": 5,
   "metadata": {
    "collapsed": false
   },
   "outputs": [],
   "source": [
    "\"\"\"\n",
    "DON'T MODIFY ANYTHING IN THIS CELL\n",
    "\"\"\"\n",
    "# Preprocess Training, Validation, and Testing Data\n",
    "helper.preprocess_and_save_data(cifar10_dataset_folder_path, normalize, one_hot_encode)"
   ]
  },
  {
   "cell_type": "markdown",
   "metadata": {},
   "source": [
    "# Check Point\n",
    "This is your first checkpoint.  If you ever decide to come back to this notebook or have to restart the notebook, you can start from here.  The preprocessed data has been saved to disk."
   ]
  },
  {
   "cell_type": "code",
   "execution_count": 1,
   "metadata": {
    "collapsed": true
   },
   "outputs": [],
   "source": [
    "import tensorflow as tf"
   ]
  },
  {
   "cell_type": "code",
   "execution_count": 2,
   "metadata": {
    "collapsed": true
   },
   "outputs": [],
   "source": [
    "\"\"\"\n",
    "DON'T MODIFY ANYTHING IN THIS CELL\n",
    "\"\"\"\n",
    "import pickle\n",
    "import problem_unittests as tests\n",
    "import helper\n",
    "\n",
    "# Load the Preprocessed Validation data\n",
    "valid_features, valid_labels = pickle.load(open('preprocess_validation.p', mode='rb'))"
   ]
  },
  {
   "cell_type": "markdown",
   "metadata": {},
   "source": [
    "## Build the network\n",
    "For the neural network, you'll build each layer into a function.  Most of the code you've seen has been outside of functions. To test your code more thoroughly, we require that you put each layer in a function.  This allows us to give you better feedback and test for simple mistakes using our unittests before you submit your project.\n",
    "\n",
    "If you're finding it hard to dedicate enough time for this course a week, we've provided a small shortcut to this part of the project. In the next couple of problems, you'll have the option to use [TensorFlow Layers](https://www.tensorflow.org/api_docs/python/tf/layers) or [TensorFlow Layers (contrib)](https://www.tensorflow.org/api_guides/python/contrib.layers) to build each layer, except \"Convolutional & Max Pooling\" layer.  TF Layers is similar to Keras's and TFLearn's abstraction to layers, so it's easy to pickup.\n",
    "\n",
    "If you would like to get the most of this course, try to solve all the problems without TF Layers.  Let's begin!\n",
    "### Input\n",
    "The neural network needs to read the image data, one-hot encoded labels, and dropout keep probability. Implement the following functions\n",
    "* Implement `neural_net_image_input`\n",
    " * Return a [TF Placeholder](https://www.tensorflow.org/api_docs/python/tf/placeholder)\n",
    " * Set the shape using `image_shape` with batch size set to `None`.\n",
    " * Name the TensorFlow placeholder \"x\" using the TensorFlow `name` parameter in the [TF Placeholder](https://www.tensorflow.org/api_docs/python/tf/placeholder).\n",
    "* Implement `neural_net_label_input`\n",
    " * Return a [TF Placeholder](https://www.tensorflow.org/api_docs/python/tf/placeholder)\n",
    " * Set the shape using `n_classes` with batch size set to `None`.\n",
    " * Name the TensorFlow placeholder \"y\" using the TensorFlow `name` parameter in the [TF Placeholder](https://www.tensorflow.org/api_docs/python/tf/placeholder).\n",
    "* Implement `neural_net_keep_prob_input`\n",
    " * Return a [TF Placeholder](https://www.tensorflow.org/api_docs/python/tf/placeholder) for dropout keep probability.\n",
    " * Name the TensorFlow placeholder \"keep_prob\" using the TensorFlow `name` parameter in the [TF Placeholder](https://www.tensorflow.org/api_docs/python/tf/placeholder).\n",
    "\n",
    "These names will be used at the end of the project to load your saved model.\n",
    "\n",
    "Note: `None` for shapes in TensorFlow allow for a dynamic size."
   ]
  },
  {
   "cell_type": "code",
   "execution_count": 3,
   "metadata": {
    "collapsed": false
   },
   "outputs": [
    {
     "name": "stdout",
     "output_type": "stream",
     "text": [
      "Image Input Tests Passed.\n",
      "Label Input Tests Passed.\n",
      "Keep Prob Tests Passed.\n"
     ]
    }
   ],
   "source": [
    "def neural_net_image_input(image_shape):\n",
    "    \"\"\"\n",
    "    Return a Tensor for a bach of image input\n",
    "    : image_shape: Shape of the images\n",
    "    : return: Tensor for image input.\n",
    "    \"\"\"\n",
    "    return tf.placeholder(tf.float32, [None, *image_shape], \"x\")\n",
    "\n",
    "\n",
    "def neural_net_label_input(n_classes):\n",
    "    \"\"\"\n",
    "    Return a Tensor for a batch of label input\n",
    "    : n_classes: Number of classes\n",
    "    : return: Tensor for label input.\n",
    "    \"\"\"\n",
    "    return tf.placeholder(tf.float32, [None, n_classes], \"y\")\n",
    "\n",
    "\n",
    "def neural_net_keep_prob_input():\n",
    "    \"\"\"\n",
    "    Return a Tensor for keep probability\n",
    "    : return: Tensor for keep probability.\n",
    "    \"\"\"\n",
    "    return tf.placeholder(tf.float32, name = \"keep_prob\")\n",
    "\n",
    "\n",
    "\"\"\"\n",
    "DON'T MODIFY ANYTHING IN THIS CELL THAT IS BELOW THIS LINE\n",
    "\"\"\"\n",
    "tf.reset_default_graph()\n",
    "tests.test_nn_image_inputs(neural_net_image_input)\n",
    "tests.test_nn_label_inputs(neural_net_label_input)\n",
    "tests.test_nn_keep_prob_inputs(neural_net_keep_prob_input)"
   ]
  },
  {
   "cell_type": "markdown",
   "metadata": {},
   "source": [
    "### Convolution and Max Pooling Layer\n",
    "Convolution layers have a lot of success with images. For this code cell, you should implement the function `conv2d_maxpool` to apply convolution then max pooling:\n",
    "* Create the weight and bias using `conv_ksize`, `conv_num_outputs` and the shape of `x_tensor`.\n",
    "* Apply a convolution to `x_tensor` using weight and `conv_strides`.\n",
    " * We recommend you use same padding, but you're welcome to use any padding.\n",
    "* Add bias\n",
    "* Add a nonlinear activation to the convolution.\n",
    "* Apply Max Pooling using `pool_ksize` and `pool_strides`.\n",
    " * We recommend you use same padding, but you're welcome to use any padding.\n",
    "\n",
    "Note: You **can't** use [TensorFlow Layers](https://www.tensorflow.org/api_docs/python/tf/layers) or [TensorFlow Layers (contrib)](https://www.tensorflow.org/api_guides/python/contrib.layers) for this layer.  You're free to use any TensorFlow package for all the other layers."
   ]
  },
  {
   "cell_type": "code",
   "execution_count": 4,
   "metadata": {
    "collapsed": false
   },
   "outputs": [
    {
     "name": "stdout",
     "output_type": "stream",
     "text": [
      "Tests Passed\n"
     ]
    }
   ],
   "source": [
    "def conv2d_maxpool(x_tensor, conv_num_outputs, conv_ksize, conv_strides, pool_ksize, pool_strides):\n",
    "    \"\"\"\n",
    "    Apply convolution then max pooling to x_tensor\n",
    "    :param x_tensor: TensorFlow Tensor\n",
    "    :param conv_num_outputs: Number of outputs for the convolutional layer\n",
    "    :param conv_ksize: kernal size 2-D Tuple for convolution\n",
    "    :param conv_strides: Stride 2-D Tuple for convolution\n",
    "    :param pool_ksize: kernal size 2-D Tuple for pool\n",
    "    :param pool_strides: Stride 2-D Tuple for pool\n",
    "    : return: A tensor that represents convolution and max pooling of x_tensor\n",
    "    \"\"\"\n",
    "    # used to rule out errors in my network\n",
    "    #conv_layer = tf.layers.conv2d(x_tensor, conv_num_outputs, conv_ksize, conv_strides, \"SAME\")\n",
    "    #conv_layer = tf.layers.max_pooling2d(conv_layer, pool_ksize, pool_strides, \"SAME\")\n",
    "    #return conv_layer\n",
    "\n",
    "    color_channels = x_tensor.get_shape().as_list()[-1]\n",
    "\n",
    "    # before setting stddev=0.1, my training validation accuracy never get over 0.1,\n",
    "    # after reading some source code of TensorFlow, I found a keyword \"stddev\", then search it in Slack,\n",
    "    # gotcha! accuracy get to 0.2 !\n",
    "    weights = tf.Variable(tf.truncated_normal([*conv_ksize, color_channels, conv_num_outputs], stddev=0.1))\n",
    "    # but it stops at 0.2, and that's because I add extra `[]` in `tf.zeros` param!\n",
    "    biases = tf.Variable(tf.zeros(conv_num_outputs))\n",
    "\n",
    "    conv_layer = tf.nn.conv2d(x_tensor, weights, strides=[1, *conv_strides, 1], padding=\"SAME\")\n",
    "    conv_layer = tf.nn.bias_add(conv_layer, biases)\n",
    "    conv_layer = tf.nn.relu(conv_layer)\n",
    "\n",
    "    conv_layer = tf.nn.max_pool(conv_layer,\n",
    "                                ksize=[1, *pool_ksize, 1],\n",
    "                                strides=[1, *pool_strides, 1],\n",
    "                                padding='SAME')\n",
    "    return conv_layer\n",
    "\n",
    "\n",
    "\"\"\"\n",
    "DON'T MODIFY ANYTHING IN THIS CELL THAT IS BELOW THIS LINE\n",
    "\"\"\"\n",
    "tests.test_con_pool(conv2d_maxpool)"
   ]
  },
  {
   "cell_type": "markdown",
   "metadata": {},
   "source": [
    "### Flatten Layer\n",
    "Implement the `flatten` function to change the dimension of `x_tensor` from a 4-D tensor to a 2-D tensor.  The output should be the shape (*Batch Size*, *Flattened Image Size*). You can use [TensorFlow Layers](https://www.tensorflow.org/api_docs/python/tf/layers) or [TensorFlow Layers (contrib)](https://www.tensorflow.org/api_guides/python/contrib.layers) for this layer."
   ]
  },
  {
   "cell_type": "code",
   "execution_count": 5,
   "metadata": {
    "collapsed": false
   },
   "outputs": [
    {
     "name": "stdout",
     "output_type": "stream",
     "text": [
      "Tests Passed\n"
     ]
    }
   ],
   "source": [
    "def flatten(x_tensor):\n",
    "    \"\"\"\n",
    "    Flatten x_tensor to (Batch Size, Flattened Image Size)\n",
    "    : x_tensor: A tensor of size (Batch Size, ...), where ... are the image dimensions.\n",
    "    : return: A tensor of size (Batch Size, Flattened Image Size).\n",
    "    \"\"\"\n",
    "    # use contrib layer instead\n",
    "    size = 1\n",
    "    for x in x_tensor.get_shape().as_list():\n",
    "       if (x is not None):\n",
    "           size = size * x\n",
    "    return tf.reshape(x_tensor, [-1, size])\n",
    "\n",
    "    # return tf.contrib.layers.flatten(x_tensor)\n",
    "\n",
    "\n",
    "\"\"\"\n",
    "DON'T MODIFY ANYTHING IN THIS CELL THAT IS BELOW THIS LINE\n",
    "\"\"\"\n",
    "tests.test_flatten(flatten)"
   ]
  },
  {
   "cell_type": "markdown",
   "metadata": {},
   "source": [
    "### Fully-Connected Layer\n",
    "Implement the `fully_conn` function to apply a fully connected layer to `x_tensor` with the shape (*Batch Size*, *num_outputs*). You can use [TensorFlow Layers](https://www.tensorflow.org/api_docs/python/tf/layers) or [TensorFlow Layers (contrib)](https://www.tensorflow.org/api_guides/python/contrib.layers) for this layer."
   ]
  },
  {
   "cell_type": "code",
   "execution_count": 6,
   "metadata": {
    "collapsed": false
   },
   "outputs": [
    {
     "name": "stdout",
     "output_type": "stream",
     "text": [
      "Tests Passed\n"
     ]
    }
   ],
   "source": [
    "def fully_conn(x_tensor, num_outputs):\n",
    "    \"\"\"\n",
    "    Apply a fully connected layer to x_tensor using weight and bias\n",
    "    : x_tensor: A 2-D tensor where the first dimension is batch size.\n",
    "    : num_outputs: The number of output that the new tensor should be.\n",
    "    : return: A 2-D tensor where the second dimension is num_outputs.\n",
    "    \"\"\"\n",
    "    # use contrib layer instead\n",
    "    input_size = x_tensor.get_shape().as_list()[1]\n",
    "    # also stddev saves me!\n",
    "    weights = tf.Variable(tf.truncated_normal([input_size, num_outputs], stddev=0.1))\n",
    "    biases = tf.Variable(tf.zeros(num_outputs))\n",
    "    fully_connected = tf.add(tf.matmul(x_tensor, weights), biases)\n",
    "    fully_connected = tf.nn.relu(fully_connected)\n",
    "    return fully_connected\n",
    "\n",
    "    # return tf.contrib.layers.fully_connected(x_tensor, num_outputs)\n",
    "\n",
    "\n",
    "\"\"\"\n",
    "DON'T MODIFY ANYTHING IN THIS CELL THAT IS BELOW THIS LINE\n",
    "\"\"\"\n",
    "tests.test_fully_conn(fully_conn)"
   ]
  },
  {
   "cell_type": "markdown",
   "metadata": {},
   "source": [
    "### Output Layer\n",
    "Implement the `output` function to apply a fully connected layer to `x_tensor` with the shape (*Batch Size*, *num_outputs*). You can use [TensorFlow Layers](https://www.tensorflow.org/api_docs/python/tf/layers) or [TensorFlow Layers (contrib)](https://www.tensorflow.org/api_guides/python/contrib.layers) for this layer.\n",
    "\n",
    "Note: Activation, softmax, or cross entropy shouldn't be applied to this."
   ]
  },
  {
   "cell_type": "code",
   "execution_count": 7,
   "metadata": {
    "collapsed": false
   },
   "outputs": [
    {
     "name": "stdout",
     "output_type": "stream",
     "text": [
      "Tests Passed\n"
     ]
    }
   ],
   "source": [
    "def output(x_tensor, num_outputs):\n",
    "    \"\"\"\n",
    "    Apply a output layer to x_tensor using weight and bias\n",
    "    : x_tensor: A 2-D tensor where the first dimension is batch size.\n",
    "    : num_outputs: The number of output that the new tensor should be.\n",
    "    : return: A 2-D tensor where the second dimension is num_outputs.\n",
    "    \"\"\"\n",
    "    # use contrib layer instead\n",
    "    input_size = x_tensor.get_shape().as_list()[1]\n",
    "    weights = tf.Variable(tf.truncated_normal([input_size, num_outputs], stddev=0.1))\n",
    "    biases = tf.Variable(tf.zeros(num_outputs))\n",
    "    out = tf.add(tf.matmul(x_tensor, weights), biases)\n",
    "    return out\n",
    "\n",
    "    # return tf.contrib.layers.fully_connected(x_tensor, num_outputs, None)\n",
    "\n",
    "\n",
    "\"\"\"\n",
    "DON'T MODIFY ANYTHING IN THIS CELL THAT IS BELOW THIS LINE\n",
    "\"\"\"\n",
    "tests.test_output(output)"
   ]
  },
  {
   "cell_type": "markdown",
   "metadata": {},
   "source": [
    "### Create Convolutional Model\n",
    "Implement the function `conv_net` to create a convolutional neural network model. The function takes in a batch of images, `x`, and outputs logits.  Use the layers you created above to create this model:\n",
    "\n",
    "* Apply 1, 2, or 3 Convolution and Max Pool layers\n",
    "* Apply a Flatten Layer\n",
    "* Apply 1, 2, or 3 Fully Connected Layers\n",
    "* Apply an Output Layer\n",
    "* Return the output\n",
    "* Apply [TensorFlow's Dropout](https://www.tensorflow.org/api_docs/python/tf/nn/dropout) to one or more layers in the model using `keep_prob`. "
   ]
  },
  {
   "cell_type": "code",
   "execution_count": 8,
   "metadata": {
    "collapsed": false
   },
   "outputs": [
    {
     "name": "stdout",
     "output_type": "stream",
     "text": [
      "Neural Network Built!\n"
     ]
    }
   ],
   "source": [
    "def conv_net(x, keep_prob):\n",
    "    \"\"\"\n",
    "    Create a convolutional neural network model\n",
    "    : x: Placeholder tensor that holds image data.\n",
    "    : keep_prob: Placeholder tensor that hold dropout keep probability.\n",
    "    : return: Tensor that represents logits\n",
    "    \"\"\"\n",
    "    # TODO: Apply 1, 2, or 3 Convolution and Max Pool layers\n",
    "    #    Play around with different number of outputs, kernel size and stride\n",
    "    # Function Definition from Above:\n",
    "    #    conv2d_maxpool(x_tensor, conv_num_outputs, conv_ksize, conv_strides, pool_ksize, pool_strides)\n",
    "    # After exploring around, I find out such a good architecture, it get 0.4 at the third epoch\n",
    "    conv1 = conv2d_maxpool(x, 32, (8, 8), (2, 2), (4, 4), (2, 2))\n",
    "    conv2 = conv2d_maxpool(conv1, 64, (4, 4), (2, 2), (2, 2), (2, 2))\n",
    "\n",
    "\n",
    "    # TODO: Apply a Flatten Layer\n",
    "    # Function Definition from Above:\n",
    "    #   flatten(x_tensor)\n",
    "    flat = flatten(conv2)\n",
    "\n",
    "\n",
    "    # TODO: Apply 1, 2, or 3 Fully Connected Layers\n",
    "    #    Play around with different number of outputs\n",
    "    # Function Definition from Above:\n",
    "    #   fully_conn(x_tensor, num_outputs)\n",
    "    fc1 = fully_conn(flat, 128)\n",
    "    fc1 = tf.nn.dropout(fc1, keep_prob)\n",
    "\n",
    "\n",
    "    # TODO: Apply an Output Layer\n",
    "    #    Set this to the number of classes\n",
    "    # Function Definition from Above:\n",
    "    #   output(x_tensor, num_outputs)\n",
    "    out = output(fc1, 10)\n",
    "\n",
    "\n",
    "    # TODO: return output\n",
    "    return out\n",
    "\n",
    "\n",
    "\"\"\"\n",
    "DON'T MODIFY ANYTHING IN THIS CELL THAT IS BELOW THIS LINE\n",
    "\"\"\"\n",
    "\n",
    "##############################\n",
    "## Build the Neural Network ##\n",
    "##############################\n",
    "\n",
    "# Remove previous weights, bias, inputs, etc..\n",
    "tf.reset_default_graph()\n",
    "\n",
    "# Inputs\n",
    "x = neural_net_image_input((32, 32, 3))\n",
    "y = neural_net_label_input(10)\n",
    "keep_prob = neural_net_keep_prob_input()\n",
    "\n",
    "# Model\n",
    "logits = conv_net(x, keep_prob)\n",
    "\n",
    "# Name logits Tensor, so that is can be loaded from disk after training\n",
    "logits = tf.identity(logits, name='logits')\n",
    "\n",
    "# Loss and Optimizer\n",
    "cost = tf.reduce_mean(tf.nn.softmax_cross_entropy_with_logits(logits=logits, labels=y))\n",
    "optimizer = tf.train.AdamOptimizer().minimize(cost)\n",
    "\n",
    "# Accuracy\n",
    "correct_pred = tf.equal(tf.argmax(logits, 1), tf.argmax(y, 1))\n",
    "accuracy = tf.reduce_mean(tf.cast(correct_pred, tf.float32), name='accuracy')\n",
    "\n",
    "tests.test_conv_net(conv_net)"
   ]
  },
  {
   "cell_type": "markdown",
   "metadata": {},
   "source": [
    "## Train the Neural Network\n",
    "### Single Optimization\n",
    "Implement the function `train_neural_network` to do a single optimization.  The optimization should use `optimizer` to optimize in `session` with a `feed_dict` of the following:\n",
    "* `x` for image input\n",
    "* `y` for labels\n",
    "* `keep_prob` for keep probability for dropout\n",
    "\n",
    "This function will be called for each batch, so `tf.global_variables_initializer()` has already been called.\n",
    "\n",
    "Note: Nothing needs to be returned. This function is only optimizing the neural network."
   ]
  },
  {
   "cell_type": "code",
   "execution_count": 9,
   "metadata": {
    "collapsed": false
   },
   "outputs": [
    {
     "name": "stdout",
     "output_type": "stream",
     "text": [
      "Tests Passed\n"
     ]
    }
   ],
   "source": [
    "def train_neural_network(session, optimizer, keep_probability, feature_batch, label_batch):\n",
    "    \"\"\"\n",
    "    Optimize the session on a batch of images and labels\n",
    "    : session: Current TensorFlow session\n",
    "    : optimizer: TensorFlow optimizer function\n",
    "    : keep_probability: keep probability\n",
    "    : feature_batch: Batch of Numpy image data\n",
    "    : label_batch: Batch of Numpy label data\n",
    "    \"\"\"\n",
    "    session.run(optimizer, {x: feature_batch, y: label_batch, keep_prob: keep_probability})\n",
    "\n",
    "\n",
    "\"\"\"\n",
    "DON'T MODIFY ANYTHING IN THIS CELL THAT IS BELOW THIS LINE\n",
    "\"\"\"\n",
    "tests.test_train_nn(train_neural_network)"
   ]
  },
  {
   "cell_type": "markdown",
   "metadata": {},
   "source": [
    "### Show Stats\n",
    "Implement the function `print_stats` to print loss and validation accuracy.  Use the global variables `valid_features` and `valid_labels` to calculate validation accuracy.  Use a keep probability of `1.0` to calculate the loss and validation accuracy."
   ]
  },
  {
   "cell_type": "code",
   "execution_count": 11,
   "metadata": {
    "collapsed": false
   },
   "outputs": [],
   "source": [
    "def print_stats(session, feature_batch, label_batch, cost, accuracy):\n",
    "    \"\"\"\n",
    "    Print information about loss and validation accuracy\n",
    "    : session: Current TensorFlow session\n",
    "    : feature_batch: Batch of Numpy image data\n",
    "    : label_batch: Batch of Numpy label data\n",
    "    : cost: TensorFlow cost function\n",
    "    : accuracy: TensorFlow accuracy function\n",
    "    \"\"\"\n",
    "    global losses\n",
    "    loss = session.run(cost, {x: feature_batch, y: label_batch, keep_prob: 1.})\n",
    "    valid_acc = session.run(accuracy, {x: valid_features, y: valid_labels, keep_prob: 1.})\n",
    "    print('Loss: {:>10.4f} Validation Accuracy: {:.6f}'.format(loss, valid_acc))"
   ]
  },
  {
   "cell_type": "markdown",
   "metadata": {},
   "source": [
    "### Hyperparameters\n",
    "Tune the following parameters:\n",
    "* Set `epochs` to the number of iterations until the network stops learning or start overfitting\n",
    "* Set `batch_size` to the highest number that your machine has memory for.  Most people set them to common sizes of memory:\n",
    " * 64\n",
    " * 128\n",
    " * 256\n",
    " * ...\n",
    "* Set `keep_probability` to the probability of keeping a node using dropout"
   ]
  },
  {
   "cell_type": "code",
   "execution_count": 12,
   "metadata": {
    "collapsed": true
   },
   "outputs": [],
   "source": [
    "# TODO: Tune Parameters\n",
    "# After trying epoch = 100, the accuracy stop increasing at epoch = 50\n",
    "epochs = 50\n",
    "batch_size = 256\n",
    "keep_probability = 0.5"
   ]
  },
  {
   "cell_type": "markdown",
   "metadata": {},
   "source": [
    "### Train on a Single CIFAR-10 Batch\n",
    "Instead of training the neural network on all the CIFAR-10 batches of data, let's use a single batch. This should save time while you iterate on the model to get a better accuracy.  Once the final validation accuracy is 50% or greater, run the model on all the data in the next section."
   ]
  },
  {
   "cell_type": "code",
   "execution_count": 13,
   "metadata": {
    "collapsed": false,
    "scrolled": true
   },
   "outputs": [
    {
     "name": "stdout",
     "output_type": "stream",
     "text": [
      "Checking the Training on a Single Batch...\n",
      "Epoch  1, CIFAR-10 Batch 1:  Loss:     2.1422 Validation Accuracy: 0.300600\n",
      "time:  6.234607934951782\n",
      "Epoch  2, CIFAR-10 Batch 1:  Loss:     1.9824 Validation Accuracy: 0.365000\n",
      "time:  6.087482690811157\n",
      "Epoch  3, CIFAR-10 Batch 1:  Loss:     1.7662 Validation Accuracy: 0.419400\n",
      "time:  5.921063184738159\n",
      "Epoch  4, CIFAR-10 Batch 1:  Loss:     1.6284 Validation Accuracy: 0.435000\n",
      "time:  6.068157911300659\n",
      "Epoch  5, CIFAR-10 Batch 1:  Loss:     1.4890 Validation Accuracy: 0.454200\n",
      "time:  5.931593894958496\n",
      "Epoch  6, CIFAR-10 Batch 1:  Loss:     1.3447 Validation Accuracy: 0.456200\n",
      "time:  6.082613945007324\n",
      "Epoch  7, CIFAR-10 Batch 1:  Loss:     1.3151 Validation Accuracy: 0.464600\n",
      "time:  5.9854960441589355\n",
      "Epoch  8, CIFAR-10 Batch 1:  Loss:     1.2117 Validation Accuracy: 0.489400\n",
      "time:  6.022568225860596\n",
      "Epoch  9, CIFAR-10 Batch 1:  Loss:     1.0855 Validation Accuracy: 0.501800\n",
      "time:  6.028038740158081\n",
      "Epoch 10, CIFAR-10 Batch 1:  Loss:     1.0355 Validation Accuracy: 0.505800\n",
      "time:  5.959168195724487\n",
      "Epoch 11, CIFAR-10 Batch 1:  Loss:     0.9397 Validation Accuracy: 0.507600\n",
      "time:  6.075153827667236\n",
      "Epoch 12, CIFAR-10 Batch 1:  Loss:     0.8914 Validation Accuracy: 0.513600\n",
      "time:  6.14432692527771\n",
      "Epoch 13, CIFAR-10 Batch 1:  Loss:     0.8182 Validation Accuracy: 0.524000\n",
      "time:  6.014070987701416\n",
      "Epoch 14, CIFAR-10 Batch 1:  Loss:     0.7514 Validation Accuracy: 0.529600\n",
      "time:  5.952611923217773\n",
      "Epoch 15, CIFAR-10 Batch 1:  Loss:     0.7509 Validation Accuracy: 0.534200\n",
      "time:  6.033723831176758\n",
      "Epoch 16, CIFAR-10 Batch 1:  Loss:     0.7002 Validation Accuracy: 0.534400\n",
      "time:  6.148566961288452\n",
      "Epoch 17, CIFAR-10 Batch 1:  Loss:     0.6401 Validation Accuracy: 0.543400\n",
      "time:  5.978444814682007\n",
      "Epoch 18, CIFAR-10 Batch 1:  Loss:     0.6475 Validation Accuracy: 0.522800\n",
      "time:  6.025766134262085\n",
      "Epoch 19, CIFAR-10 Batch 1:  Loss:     0.5852 Validation Accuracy: 0.543000\n",
      "time:  5.979418039321899\n",
      "Epoch 20, CIFAR-10 Batch 1:  Loss:     0.5331 Validation Accuracy: 0.538800\n",
      "time:  6.039370059967041\n",
      "Epoch 21, CIFAR-10 Batch 1:  Loss:     0.5105 Validation Accuracy: 0.538400\n",
      "time:  6.064900159835815\n",
      "Epoch 22, CIFAR-10 Batch 1:  Loss:     0.4907 Validation Accuracy: 0.539800\n",
      "time:  6.237756013870239\n",
      "Epoch 23, CIFAR-10 Batch 1:  Loss:     0.4519 Validation Accuracy: 0.547800\n",
      "time:  6.1607770919799805\n",
      "Epoch 24, CIFAR-10 Batch 1:  Loss:     0.4352 Validation Accuracy: 0.550600\n",
      "time:  5.988696813583374\n",
      "Epoch 25, CIFAR-10 Batch 1:  Loss:     0.3983 Validation Accuracy: 0.557200\n",
      "time:  5.980158090591431\n",
      "Epoch 26, CIFAR-10 Batch 1:  Loss:     0.3869 Validation Accuracy: 0.546400\n",
      "time:  6.023068904876709\n",
      "Epoch 27, CIFAR-10 Batch 1:  Loss:     0.3778 Validation Accuracy: 0.545000\n",
      "time:  6.032633066177368\n",
      "Epoch 28, CIFAR-10 Batch 1:  Loss:     0.3278 Validation Accuracy: 0.559600\n",
      "time:  5.95947790145874\n",
      "Epoch 29, CIFAR-10 Batch 1:  Loss:     0.3263 Validation Accuracy: 0.547600\n",
      "time:  6.154435157775879\n",
      "Epoch 30, CIFAR-10 Batch 1:  Loss:     0.2939 Validation Accuracy: 0.556800\n",
      "time:  6.022649765014648\n",
      "Epoch 31, CIFAR-10 Batch 1:  Loss:     0.2912 Validation Accuracy: 0.550800\n",
      "time:  5.951092004776001\n",
      "Epoch 32, CIFAR-10 Batch 1:  Loss:     0.2633 Validation Accuracy: 0.556200\n",
      "time:  6.175390958786011\n",
      "Epoch 33, CIFAR-10 Batch 1:  Loss:     0.2741 Validation Accuracy: 0.558200\n",
      "time:  5.933727979660034\n",
      "Epoch 34, CIFAR-10 Batch 1:  Loss:     0.2537 Validation Accuracy: 0.556600\n",
      "time:  5.997611999511719\n",
      "Epoch 35, CIFAR-10 Batch 1:  Loss:     0.2428 Validation Accuracy: 0.562400\n",
      "time:  6.095808029174805\n",
      "Epoch 36, CIFAR-10 Batch 1:  Loss:     0.2291 Validation Accuracy: 0.561600\n",
      "time:  6.179462194442749\n",
      "Epoch 37, CIFAR-10 Batch 1:  Loss:     0.2185 Validation Accuracy: 0.574800\n",
      "time:  6.113429069519043\n",
      "Epoch 38, CIFAR-10 Batch 1:  Loss:     0.1998 Validation Accuracy: 0.566000\n",
      "time:  5.92550802230835\n",
      "Epoch 39, CIFAR-10 Batch 1:  Loss:     0.2010 Validation Accuracy: 0.565600\n",
      "time:  5.990530014038086\n",
      "Epoch 40, CIFAR-10 Batch 1:  Loss:     0.2045 Validation Accuracy: 0.559400\n",
      "time:  5.9363908767700195\n",
      "Epoch 41, CIFAR-10 Batch 1:  Loss:     0.1876 Validation Accuracy: 0.551400\n",
      "time:  6.021890878677368\n",
      "Epoch 42, CIFAR-10 Batch 1:  Loss:     0.1946 Validation Accuracy: 0.554000\n",
      "time:  5.951801776885986\n",
      "Epoch 43, CIFAR-10 Batch 1:  Loss:     0.2080 Validation Accuracy: 0.559600\n",
      "time:  5.976986885070801\n",
      "Epoch 44, CIFAR-10 Batch 1:  Loss:     0.1874 Validation Accuracy: 0.578800\n",
      "time:  6.035001277923584\n",
      "Epoch 45, CIFAR-10 Batch 1:  Loss:     0.1554 Validation Accuracy: 0.573800\n",
      "time:  6.179802894592285\n",
      "Epoch 46, CIFAR-10 Batch 1:  Loss:     0.1485 Validation Accuracy: 0.571800\n",
      "time:  6.022428274154663\n",
      "Epoch 47, CIFAR-10 Batch 1:  Loss:     0.1622 Validation Accuracy: 0.561200\n",
      "time:  5.96757698059082\n",
      "Epoch 48, CIFAR-10 Batch 1:  Loss:     0.1401 Validation Accuracy: 0.574400\n",
      "time:  6.002082109451294\n",
      "Epoch 49, CIFAR-10 Batch 1:  Loss:     0.1245 Validation Accuracy: 0.581200\n",
      "time:  5.969396114349365\n",
      "Epoch 50, CIFAR-10 Batch 1:  Loss:     0.1204 Validation Accuracy: 0.570200\n",
      "time:  5.995112895965576\n"
     ]
    }
   ],
   "source": [
    "\"\"\"\n",
    "DON'T MODIFY ANYTHING IN THIS CELL\n",
    "\"\"\"\n",
    "import time\n",
    "import matplotlib.pyplot as plt\n",
    "\n",
    "print('Checking the Training on a Single Batch...')\n",
    "with tf.Session() as sess:\n",
    "    # Initializing the variables\n",
    "    sess.run(tf.global_variables_initializer())\n",
    "    \n",
    "    # Training cycle\n",
    "    for epoch in range(epochs):\n",
    "        start = time.time()\n",
    "        batch_i = 1\n",
    "        for batch_features, batch_labels in helper.load_preprocess_training_batch(batch_i, batch_size):\n",
    "            train_neural_network(sess, optimizer, keep_probability, batch_features, batch_labels)\n",
    "        print('Epoch {:>2}, CIFAR-10 Batch {}:  '.format(epoch + 1, batch_i), end='')\n",
    "        print_stats(sess, batch_features, batch_labels, cost, accuracy)\n",
    "        end = time.time()\n",
    "        print(\"time: \", end - start)\n",
    "    \n",
    "\n",
    "    plt.plot(losses['valid_acc'], label='Validation accuracy')\n",
    "    plt.legend()\n",
    "    plt.ylim(ymax=0.5)"
   ]
  },
  {
   "cell_type": "markdown",
   "metadata": {},
   "source": [
    "### Fully Train the Model\n",
    "Now that you got a good accuracy with a single CIFAR-10 batch, try it with all five batches."
   ]
  },
  {
   "cell_type": "code",
   "execution_count": 14,
   "metadata": {
    "collapsed": false
   },
   "outputs": [
    {
     "name": "stdout",
     "output_type": "stream",
     "text": [
      "Training...\n",
      "Epoch  1, CIFAR-10 Batch 1:  Loss:     2.1579 Validation Accuracy: 0.264200\n",
      "Epoch  1, CIFAR-10 Batch 2:  Loss:     1.9125 Validation Accuracy: 0.335200\n",
      "Epoch  1, CIFAR-10 Batch 3:  Loss:     1.6283 Validation Accuracy: 0.371600\n",
      "Epoch  1, CIFAR-10 Batch 4:  Loss:     1.6347 Validation Accuracy: 0.418600\n",
      "Epoch  1, CIFAR-10 Batch 5:  Loss:     1.6232 Validation Accuracy: 0.439800\n",
      "Epoch  2, CIFAR-10 Batch 1:  Loss:     1.7335 Validation Accuracy: 0.453800\n",
      "Epoch  2, CIFAR-10 Batch 2:  Loss:     1.6515 Validation Accuracy: 0.458800\n",
      "Epoch  2, CIFAR-10 Batch 3:  Loss:     1.2748 Validation Accuracy: 0.461000\n",
      "Epoch  2, CIFAR-10 Batch 4:  Loss:     1.4612 Validation Accuracy: 0.460200\n",
      "Epoch  2, CIFAR-10 Batch 5:  Loss:     1.4342 Validation Accuracy: 0.493400\n",
      "Epoch  3, CIFAR-10 Batch 1:  Loss:     1.5362 Validation Accuracy: 0.511800\n",
      "Epoch  3, CIFAR-10 Batch 2:  Loss:     1.4770 Validation Accuracy: 0.481200\n",
      "Epoch  3, CIFAR-10 Batch 3:  Loss:     1.0498 Validation Accuracy: 0.508000\n",
      "Epoch  3, CIFAR-10 Batch 4:  Loss:     1.3327 Validation Accuracy: 0.503000\n",
      "Epoch  3, CIFAR-10 Batch 5:  Loss:     1.3007 Validation Accuracy: 0.525600\n",
      "Epoch  4, CIFAR-10 Batch 1:  Loss:     1.3278 Validation Accuracy: 0.523200\n",
      "Epoch  4, CIFAR-10 Batch 2:  Loss:     1.3211 Validation Accuracy: 0.516600\n",
      "Epoch  4, CIFAR-10 Batch 3:  Loss:     0.9456 Validation Accuracy: 0.514000\n",
      "Epoch  4, CIFAR-10 Batch 4:  Loss:     1.1954 Validation Accuracy: 0.527800\n",
      "Epoch  4, CIFAR-10 Batch 5:  Loss:     1.1572 Validation Accuracy: 0.545200\n",
      "Epoch  5, CIFAR-10 Batch 1:  Loss:     1.1793 Validation Accuracy: 0.552800\n",
      "Epoch  5, CIFAR-10 Batch 2:  Loss:     1.2013 Validation Accuracy: 0.538400\n",
      "Epoch  5, CIFAR-10 Batch 3:  Loss:     0.8604 Validation Accuracy: 0.539200\n",
      "Epoch  5, CIFAR-10 Batch 4:  Loss:     1.1181 Validation Accuracy: 0.556200\n",
      "Epoch  5, CIFAR-10 Batch 5:  Loss:     1.0746 Validation Accuracy: 0.547800\n",
      "Epoch  6, CIFAR-10 Batch 1:  Loss:     1.0608 Validation Accuracy: 0.561000\n",
      "Epoch  6, CIFAR-10 Batch 2:  Loss:     1.1054 Validation Accuracy: 0.542800\n",
      "Epoch  6, CIFAR-10 Batch 3:  Loss:     0.7845 Validation Accuracy: 0.564200\n",
      "Epoch  6, CIFAR-10 Batch 4:  Loss:     0.9874 Validation Accuracy: 0.553800\n",
      "Epoch  6, CIFAR-10 Batch 5:  Loss:     0.9856 Validation Accuracy: 0.567600\n",
      "Epoch  7, CIFAR-10 Batch 1:  Loss:     0.9388 Validation Accuracy: 0.567800\n",
      "Epoch  7, CIFAR-10 Batch 2:  Loss:     0.9789 Validation Accuracy: 0.553800\n",
      "Epoch  7, CIFAR-10 Batch 3:  Loss:     0.7375 Validation Accuracy: 0.555400\n",
      "Epoch  7, CIFAR-10 Batch 4:  Loss:     0.9412 Validation Accuracy: 0.579600\n",
      "Epoch  7, CIFAR-10 Batch 5:  Loss:     0.9044 Validation Accuracy: 0.581600\n",
      "Epoch  8, CIFAR-10 Batch 1:  Loss:     0.9004 Validation Accuracy: 0.585000\n",
      "Epoch  8, CIFAR-10 Batch 2:  Loss:     0.9091 Validation Accuracy: 0.541800\n",
      "Epoch  8, CIFAR-10 Batch 3:  Loss:     0.7101 Validation Accuracy: 0.588200\n",
      "Epoch  8, CIFAR-10 Batch 4:  Loss:     0.8777 Validation Accuracy: 0.582400\n",
      "Epoch  8, CIFAR-10 Batch 5:  Loss:     0.8728 Validation Accuracy: 0.584000\n",
      "Epoch  9, CIFAR-10 Batch 1:  Loss:     0.8084 Validation Accuracy: 0.575400\n",
      "Epoch  9, CIFAR-10 Batch 2:  Loss:     0.8292 Validation Accuracy: 0.579200\n",
      "Epoch  9, CIFAR-10 Batch 3:  Loss:     0.7042 Validation Accuracy: 0.584000\n",
      "Epoch  9, CIFAR-10 Batch 4:  Loss:     0.8080 Validation Accuracy: 0.592600\n",
      "Epoch  9, CIFAR-10 Batch 5:  Loss:     0.8209 Validation Accuracy: 0.595200\n",
      "Epoch 10, CIFAR-10 Batch 1:  Loss:     0.6984 Validation Accuracy: 0.589800\n",
      "Epoch 10, CIFAR-10 Batch 2:  Loss:     0.7755 Validation Accuracy: 0.589000\n",
      "Epoch 10, CIFAR-10 Batch 3:  Loss:     0.6240 Validation Accuracy: 0.607000\n",
      "Epoch 10, CIFAR-10 Batch 4:  Loss:     0.7556 Validation Accuracy: 0.599200\n",
      "Epoch 10, CIFAR-10 Batch 5:  Loss:     0.7683 Validation Accuracy: 0.614000\n",
      "Epoch 11, CIFAR-10 Batch 1:  Loss:     0.7229 Validation Accuracy: 0.615000\n",
      "Epoch 11, CIFAR-10 Batch 2:  Loss:     0.6535 Validation Accuracy: 0.607400\n",
      "Epoch 11, CIFAR-10 Batch 3:  Loss:     0.5953 Validation Accuracy: 0.616200\n",
      "Epoch 11, CIFAR-10 Batch 4:  Loss:     0.7119 Validation Accuracy: 0.611600\n",
      "Epoch 11, CIFAR-10 Batch 5:  Loss:     0.6812 Validation Accuracy: 0.627200\n",
      "Epoch 12, CIFAR-10 Batch 1:  Loss:     0.6556 Validation Accuracy: 0.622600\n",
      "Epoch 12, CIFAR-10 Batch 2:  Loss:     0.6520 Validation Accuracy: 0.610000\n",
      "Epoch 12, CIFAR-10 Batch 3:  Loss:     0.5759 Validation Accuracy: 0.619400\n",
      "Epoch 12, CIFAR-10 Batch 4:  Loss:     0.6602 Validation Accuracy: 0.614800\n",
      "Epoch 12, CIFAR-10 Batch 5:  Loss:     0.6910 Validation Accuracy: 0.624000\n",
      "Epoch 13, CIFAR-10 Batch 1:  Loss:     0.5742 Validation Accuracy: 0.610000\n",
      "Epoch 13, CIFAR-10 Batch 2:  Loss:     0.5759 Validation Accuracy: 0.603600\n",
      "Epoch 13, CIFAR-10 Batch 3:  Loss:     0.5273 Validation Accuracy: 0.627600\n",
      "Epoch 13, CIFAR-10 Batch 4:  Loss:     0.6153 Validation Accuracy: 0.625800\n",
      "Epoch 13, CIFAR-10 Batch 5:  Loss:     0.6444 Validation Accuracy: 0.631000\n",
      "Epoch 14, CIFAR-10 Batch 1:  Loss:     0.5163 Validation Accuracy: 0.625000\n",
      "Epoch 14, CIFAR-10 Batch 2:  Loss:     0.5351 Validation Accuracy: 0.624800\n",
      "Epoch 14, CIFAR-10 Batch 3:  Loss:     0.4615 Validation Accuracy: 0.638200\n",
      "Epoch 14, CIFAR-10 Batch 4:  Loss:     0.5714 Validation Accuracy: 0.627800\n",
      "Epoch 14, CIFAR-10 Batch 5:  Loss:     0.5746 Validation Accuracy: 0.632600\n",
      "Epoch 15, CIFAR-10 Batch 1:  Loss:     0.4954 Validation Accuracy: 0.631600\n",
      "Epoch 15, CIFAR-10 Batch 2:  Loss:     0.5189 Validation Accuracy: 0.623000\n",
      "Epoch 15, CIFAR-10 Batch 3:  Loss:     0.4623 Validation Accuracy: 0.629000\n",
      "Epoch 15, CIFAR-10 Batch 4:  Loss:     0.5874 Validation Accuracy: 0.628800\n",
      "Epoch 15, CIFAR-10 Batch 5:  Loss:     0.5791 Validation Accuracy: 0.633000\n",
      "Epoch 16, CIFAR-10 Batch 1:  Loss:     0.4693 Validation Accuracy: 0.629800\n",
      "Epoch 16, CIFAR-10 Batch 2:  Loss:     0.4684 Validation Accuracy: 0.631800\n",
      "Epoch 16, CIFAR-10 Batch 3:  Loss:     0.4293 Validation Accuracy: 0.636400\n",
      "Epoch 16, CIFAR-10 Batch 4:  Loss:     0.5307 Validation Accuracy: 0.629400\n",
      "Epoch 16, CIFAR-10 Batch 5:  Loss:     0.5631 Validation Accuracy: 0.642000\n",
      "Epoch 17, CIFAR-10 Batch 1:  Loss:     0.4409 Validation Accuracy: 0.637600\n",
      "Epoch 17, CIFAR-10 Batch 2:  Loss:     0.4558 Validation Accuracy: 0.634400\n",
      "Epoch 17, CIFAR-10 Batch 3:  Loss:     0.3836 Validation Accuracy: 0.642000\n",
      "Epoch 17, CIFAR-10 Batch 4:  Loss:     0.5419 Validation Accuracy: 0.631600\n",
      "Epoch 17, CIFAR-10 Batch 5:  Loss:     0.4983 Validation Accuracy: 0.644600\n",
      "Epoch 18, CIFAR-10 Batch 1:  Loss:     0.4305 Validation Accuracy: 0.625800\n",
      "Epoch 18, CIFAR-10 Batch 2:  Loss:     0.4557 Validation Accuracy: 0.647800\n",
      "Epoch 18, CIFAR-10 Batch 3:  Loss:     0.3849 Validation Accuracy: 0.643600\n",
      "Epoch 18, CIFAR-10 Batch 4:  Loss:     0.5023 Validation Accuracy: 0.637600\n",
      "Epoch 18, CIFAR-10 Batch 5:  Loss:     0.4798 Validation Accuracy: 0.655000\n",
      "Epoch 19, CIFAR-10 Batch 1:  Loss:     0.3858 Validation Accuracy: 0.636200\n",
      "Epoch 19, CIFAR-10 Batch 2:  Loss:     0.4314 Validation Accuracy: 0.644600\n",
      "Epoch 19, CIFAR-10 Batch 3:  Loss:     0.3768 Validation Accuracy: 0.651800\n",
      "Epoch 19, CIFAR-10 Batch 4:  Loss:     0.4987 Validation Accuracy: 0.638200\n",
      "Epoch 19, CIFAR-10 Batch 5:  Loss:     0.4361 Validation Accuracy: 0.657000\n",
      "Epoch 20, CIFAR-10 Batch 1:  Loss:     0.3955 Validation Accuracy: 0.634800\n",
      "Epoch 20, CIFAR-10 Batch 2:  Loss:     0.3699 Validation Accuracy: 0.657000\n",
      "Epoch 20, CIFAR-10 Batch 3:  Loss:     0.3683 Validation Accuracy: 0.653600\n",
      "Epoch 20, CIFAR-10 Batch 4:  Loss:     0.4530 Validation Accuracy: 0.634600\n",
      "Epoch 20, CIFAR-10 Batch 5:  Loss:     0.4042 Validation Accuracy: 0.659600\n",
      "Epoch 21, CIFAR-10 Batch 1:  Loss:     0.3550 Validation Accuracy: 0.641400\n",
      "Epoch 21, CIFAR-10 Batch 2:  Loss:     0.4358 Validation Accuracy: 0.627800\n",
      "Epoch 21, CIFAR-10 Batch 3:  Loss:     0.3468 Validation Accuracy: 0.655000\n",
      "Epoch 21, CIFAR-10 Batch 4:  Loss:     0.4745 Validation Accuracy: 0.638400\n",
      "Epoch 21, CIFAR-10 Batch 5:  Loss:     0.3994 Validation Accuracy: 0.654200\n",
      "Epoch 22, CIFAR-10 Batch 1:  Loss:     0.3815 Validation Accuracy: 0.626400\n",
      "Epoch 22, CIFAR-10 Batch 2:  Loss:     0.3813 Validation Accuracy: 0.657600\n",
      "Epoch 22, CIFAR-10 Batch 3:  Loss:     0.3347 Validation Accuracy: 0.657000\n",
      "Epoch 22, CIFAR-10 Batch 4:  Loss:     0.4424 Validation Accuracy: 0.630600\n",
      "Epoch 22, CIFAR-10 Batch 5:  Loss:     0.3874 Validation Accuracy: 0.655400\n",
      "Epoch 23, CIFAR-10 Batch 1:  Loss:     0.3580 Validation Accuracy: 0.631200\n",
      "Epoch 23, CIFAR-10 Batch 2:  Loss:     0.3258 Validation Accuracy: 0.652000\n",
      "Epoch 23, CIFAR-10 Batch 3:  Loss:     0.3183 Validation Accuracy: 0.657000\n",
      "Epoch 23, CIFAR-10 Batch 4:  Loss:     0.4164 Validation Accuracy: 0.624400\n",
      "Epoch 23, CIFAR-10 Batch 5:  Loss:     0.3800 Validation Accuracy: 0.653200\n",
      "Epoch 24, CIFAR-10 Batch 1:  Loss:     0.3650 Validation Accuracy: 0.630400\n",
      "Epoch 24, CIFAR-10 Batch 2:  Loss:     0.3200 Validation Accuracy: 0.650800\n",
      "Epoch 24, CIFAR-10 Batch 3:  Loss:     0.3309 Validation Accuracy: 0.660200\n",
      "Epoch 24, CIFAR-10 Batch 4:  Loss:     0.4283 Validation Accuracy: 0.638800\n",
      "Epoch 24, CIFAR-10 Batch 5:  Loss:     0.3613 Validation Accuracy: 0.646600\n",
      "Epoch 25, CIFAR-10 Batch 1:  Loss:     0.3398 Validation Accuracy: 0.637200\n",
      "Epoch 25, CIFAR-10 Batch 2:  Loss:     0.3048 Validation Accuracy: 0.661000\n",
      "Epoch 25, CIFAR-10 Batch 3:  Loss:     0.3152 Validation Accuracy: 0.662400\n",
      "Epoch 25, CIFAR-10 Batch 4:  Loss:     0.3961 Validation Accuracy: 0.635400\n",
      "Epoch 25, CIFAR-10 Batch 5:  Loss:     0.3431 Validation Accuracy: 0.651200\n",
      "Epoch 26, CIFAR-10 Batch 1:  Loss:     0.3042 Validation Accuracy: 0.630400\n",
      "Epoch 26, CIFAR-10 Batch 2:  Loss:     0.3006 Validation Accuracy: 0.655600\n",
      "Epoch 26, CIFAR-10 Batch 3:  Loss:     0.3248 Validation Accuracy: 0.659000\n",
      "Epoch 26, CIFAR-10 Batch 4:  Loss:     0.3644 Validation Accuracy: 0.656600\n",
      "Epoch 26, CIFAR-10 Batch 5:  Loss:     0.3495 Validation Accuracy: 0.639000\n",
      "Epoch 27, CIFAR-10 Batch 1:  Loss:     0.3095 Validation Accuracy: 0.640400\n",
      "Epoch 27, CIFAR-10 Batch 2:  Loss:     0.3520 Validation Accuracy: 0.639400\n",
      "Epoch 27, CIFAR-10 Batch 3:  Loss:     0.3034 Validation Accuracy: 0.653800\n",
      "Epoch 27, CIFAR-10 Batch 4:  Loss:     0.3383 Validation Accuracy: 0.654800\n",
      "Epoch 27, CIFAR-10 Batch 5:  Loss:     0.3355 Validation Accuracy: 0.651000\n",
      "Epoch 28, CIFAR-10 Batch 1:  Loss:     0.3342 Validation Accuracy: 0.649600\n",
      "Epoch 28, CIFAR-10 Batch 2:  Loss:     0.3213 Validation Accuracy: 0.648600\n",
      "Epoch 28, CIFAR-10 Batch 3:  Loss:     0.3073 Validation Accuracy: 0.650600\n",
      "Epoch 28, CIFAR-10 Batch 4:  Loss:     0.3149 Validation Accuracy: 0.660200\n",
      "Epoch 28, CIFAR-10 Batch 5:  Loss:     0.2943 Validation Accuracy: 0.658200\n",
      "Epoch 29, CIFAR-10 Batch 1:  Loss:     0.2781 Validation Accuracy: 0.661000\n",
      "Epoch 29, CIFAR-10 Batch 2:  Loss:     0.2915 Validation Accuracy: 0.652600\n",
      "Epoch 29, CIFAR-10 Batch 3:  Loss:     0.2727 Validation Accuracy: 0.658000\n",
      "Epoch 29, CIFAR-10 Batch 4:  Loss:     0.3025 Validation Accuracy: 0.649200\n",
      "Epoch 29, CIFAR-10 Batch 5:  Loss:     0.2956 Validation Accuracy: 0.653600\n",
      "Epoch 30, CIFAR-10 Batch 1:  Loss:     0.2812 Validation Accuracy: 0.643200\n",
      "Epoch 30, CIFAR-10 Batch 2:  Loss:     0.3038 Validation Accuracy: 0.654600\n",
      "Epoch 30, CIFAR-10 Batch 3:  Loss:     0.2332 Validation Accuracy: 0.661800\n",
      "Epoch 30, CIFAR-10 Batch 4:  Loss:     0.2890 Validation Accuracy: 0.651800\n",
      "Epoch 30, CIFAR-10 Batch 5:  Loss:     0.2611 Validation Accuracy: 0.657800\n",
      "Epoch 31, CIFAR-10 Batch 1:  Loss:     0.2620 Validation Accuracy: 0.647600\n",
      "Epoch 31, CIFAR-10 Batch 2:  Loss:     0.2475 Validation Accuracy: 0.664400\n",
      "Epoch 31, CIFAR-10 Batch 3:  Loss:     0.2361 Validation Accuracy: 0.650800\n",
      "Epoch 31, CIFAR-10 Batch 4:  Loss:     0.3155 Validation Accuracy: 0.645200\n",
      "Epoch 31, CIFAR-10 Batch 5:  Loss:     0.2669 Validation Accuracy: 0.665200\n",
      "Epoch 32, CIFAR-10 Batch 1:  Loss:     0.2680 Validation Accuracy: 0.656400\n",
      "Epoch 32, CIFAR-10 Batch 2:  Loss:     0.2421 Validation Accuracy: 0.656200\n",
      "Epoch 32, CIFAR-10 Batch 3:  Loss:     0.2241 Validation Accuracy: 0.658800\n",
      "Epoch 32, CIFAR-10 Batch 4:  Loss:     0.2890 Validation Accuracy: 0.647000\n",
      "Epoch 32, CIFAR-10 Batch 5:  Loss:     0.2504 Validation Accuracy: 0.663200\n",
      "Epoch 33, CIFAR-10 Batch 1:  Loss:     0.2491 Validation Accuracy: 0.653600\n",
      "Epoch 33, CIFAR-10 Batch 2:  Loss:     0.2566 Validation Accuracy: 0.662000\n",
      "Epoch 33, CIFAR-10 Batch 3:  Loss:     0.2059 Validation Accuracy: 0.661200\n",
      "Epoch 33, CIFAR-10 Batch 4:  Loss:     0.2663 Validation Accuracy: 0.664600\n",
      "Epoch 33, CIFAR-10 Batch 5:  Loss:     0.2254 Validation Accuracy: 0.661800\n",
      "Epoch 34, CIFAR-10 Batch 1:  Loss:     0.2601 Validation Accuracy: 0.664600\n",
      "Epoch 34, CIFAR-10 Batch 2:  Loss:     0.2504 Validation Accuracy: 0.663800\n",
      "Epoch 34, CIFAR-10 Batch 3:  Loss:     0.2067 Validation Accuracy: 0.655000\n",
      "Epoch 34, CIFAR-10 Batch 4:  Loss:     0.2469 Validation Accuracy: 0.657000\n",
      "Epoch 34, CIFAR-10 Batch 5:  Loss:     0.2306 Validation Accuracy: 0.656600\n",
      "Epoch 35, CIFAR-10 Batch 1:  Loss:     0.2513 Validation Accuracy: 0.660000\n",
      "Epoch 35, CIFAR-10 Batch 2:  Loss:     0.2287 Validation Accuracy: 0.671200\n",
      "Epoch 35, CIFAR-10 Batch 3:  Loss:     0.2301 Validation Accuracy: 0.647200\n",
      "Epoch 35, CIFAR-10 Batch 4:  Loss:     0.2404 Validation Accuracy: 0.653800\n",
      "Epoch 35, CIFAR-10 Batch 5:  Loss:     0.2347 Validation Accuracy: 0.662200\n",
      "Epoch 36, CIFAR-10 Batch 1:  Loss:     0.2399 Validation Accuracy: 0.646000\n",
      "Epoch 36, CIFAR-10 Batch 2:  Loss:     0.2236 Validation Accuracy: 0.660800\n",
      "Epoch 36, CIFAR-10 Batch 3:  Loss:     0.1963 Validation Accuracy: 0.659200\n",
      "Epoch 36, CIFAR-10 Batch 4:  Loss:     0.2353 Validation Accuracy: 0.656200\n",
      "Epoch 36, CIFAR-10 Batch 5:  Loss:     0.2106 Validation Accuracy: 0.658200\n",
      "Epoch 37, CIFAR-10 Batch 1:  Loss:     0.2242 Validation Accuracy: 0.647200\n",
      "Epoch 37, CIFAR-10 Batch 2:  Loss:     0.2178 Validation Accuracy: 0.671600\n",
      "Epoch 37, CIFAR-10 Batch 3:  Loss:     0.1831 Validation Accuracy: 0.660200\n",
      "Epoch 37, CIFAR-10 Batch 4:  Loss:     0.2163 Validation Accuracy: 0.659800\n",
      "Epoch 37, CIFAR-10 Batch 5:  Loss:     0.2071 Validation Accuracy: 0.657600\n",
      "Epoch 38, CIFAR-10 Batch 1:  Loss:     0.2237 Validation Accuracy: 0.644400\n",
      "Epoch 38, CIFAR-10 Batch 2:  Loss:     0.2363 Validation Accuracy: 0.666200\n",
      "Epoch 38, CIFAR-10 Batch 3:  Loss:     0.1827 Validation Accuracy: 0.656600\n",
      "Epoch 38, CIFAR-10 Batch 4:  Loss:     0.2230 Validation Accuracy: 0.658000\n",
      "Epoch 38, CIFAR-10 Batch 5:  Loss:     0.1991 Validation Accuracy: 0.655800\n",
      "Epoch 39, CIFAR-10 Batch 1:  Loss:     0.2160 Validation Accuracy: 0.652600\n",
      "Epoch 39, CIFAR-10 Batch 2:  Loss:     0.1874 Validation Accuracy: 0.670800\n",
      "Epoch 39, CIFAR-10 Batch 3:  Loss:     0.2007 Validation Accuracy: 0.637600\n",
      "Epoch 39, CIFAR-10 Batch 4:  Loss:     0.2485 Validation Accuracy: 0.649600\n",
      "Epoch 39, CIFAR-10 Batch 5:  Loss:     0.2032 Validation Accuracy: 0.661000\n",
      "Epoch 40, CIFAR-10 Batch 1:  Loss:     0.2113 Validation Accuracy: 0.661200\n",
      "Epoch 40, CIFAR-10 Batch 2:  Loss:     0.1897 Validation Accuracy: 0.670200\n",
      "Epoch 40, CIFAR-10 Batch 3:  Loss:     0.1781 Validation Accuracy: 0.637000\n",
      "Epoch 40, CIFAR-10 Batch 4:  Loss:     0.1860 Validation Accuracy: 0.656000\n",
      "Epoch 40, CIFAR-10 Batch 5:  Loss:     0.1767 Validation Accuracy: 0.670600\n",
      "Epoch 41, CIFAR-10 Batch 1:  Loss:     0.1896 Validation Accuracy: 0.664200\n",
      "Epoch 41, CIFAR-10 Batch 2:  Loss:     0.2057 Validation Accuracy: 0.665600\n",
      "Epoch 41, CIFAR-10 Batch 3:  Loss:     0.1531 Validation Accuracy: 0.625600\n",
      "Epoch 41, CIFAR-10 Batch 4:  Loss:     0.2056 Validation Accuracy: 0.660400\n",
      "Epoch 41, CIFAR-10 Batch 5:  Loss:     0.1677 Validation Accuracy: 0.653800\n",
      "Epoch 42, CIFAR-10 Batch 1:  Loss:     0.2243 Validation Accuracy: 0.655400\n",
      "Epoch 42, CIFAR-10 Batch 2:  Loss:     0.1877 Validation Accuracy: 0.666800\n",
      "Epoch 42, CIFAR-10 Batch 3:  Loss:     0.1635 Validation Accuracy: 0.652800\n",
      "Epoch 42, CIFAR-10 Batch 4:  Loss:     0.1839 Validation Accuracy: 0.663200\n",
      "Epoch 42, CIFAR-10 Batch 5:  Loss:     0.1582 Validation Accuracy: 0.660800\n",
      "Epoch 43, CIFAR-10 Batch 1:  Loss:     0.1970 Validation Accuracy: 0.658600\n",
      "Epoch 43, CIFAR-10 Batch 2:  Loss:     0.1680 Validation Accuracy: 0.671000\n",
      "Epoch 43, CIFAR-10 Batch 3:  Loss:     0.1834 Validation Accuracy: 0.641400\n",
      "Epoch 43, CIFAR-10 Batch 4:  Loss:     0.1875 Validation Accuracy: 0.660200\n",
      "Epoch 43, CIFAR-10 Batch 5:  Loss:     0.1368 Validation Accuracy: 0.658400\n",
      "Epoch 44, CIFAR-10 Batch 1:  Loss:     0.2017 Validation Accuracy: 0.652000\n",
      "Epoch 44, CIFAR-10 Batch 2:  Loss:     0.1942 Validation Accuracy: 0.670600\n",
      "Epoch 44, CIFAR-10 Batch 3:  Loss:     0.1534 Validation Accuracy: 0.657200\n",
      "Epoch 44, CIFAR-10 Batch 4:  Loss:     0.1642 Validation Accuracy: 0.664200\n",
      "Epoch 44, CIFAR-10 Batch 5:  Loss:     0.1571 Validation Accuracy: 0.660400\n",
      "Epoch 45, CIFAR-10 Batch 1:  Loss:     0.1766 Validation Accuracy: 0.660600\n",
      "Epoch 45, CIFAR-10 Batch 2:  Loss:     0.1779 Validation Accuracy: 0.673400\n",
      "Epoch 45, CIFAR-10 Batch 3:  Loss:     0.1444 Validation Accuracy: 0.648800\n",
      "Epoch 45, CIFAR-10 Batch 4:  Loss:     0.1687 Validation Accuracy: 0.660600\n",
      "Epoch 45, CIFAR-10 Batch 5:  Loss:     0.1447 Validation Accuracy: 0.662000\n",
      "Epoch 46, CIFAR-10 Batch 1:  Loss:     0.1656 Validation Accuracy: 0.653800\n",
      "Epoch 46, CIFAR-10 Batch 2:  Loss:     0.1825 Validation Accuracy: 0.671600\n",
      "Epoch 46, CIFAR-10 Batch 3:  Loss:     0.1280 Validation Accuracy: 0.642400\n",
      "Epoch 46, CIFAR-10 Batch 4:  Loss:     0.1651 Validation Accuracy: 0.668400\n",
      "Epoch 46, CIFAR-10 Batch 5:  Loss:     0.1358 Validation Accuracy: 0.666800\n",
      "Epoch 47, CIFAR-10 Batch 1:  Loss:     0.1701 Validation Accuracy: 0.657200\n",
      "Epoch 47, CIFAR-10 Batch 2:  Loss:     0.1633 Validation Accuracy: 0.668200\n",
      "Epoch 47, CIFAR-10 Batch 3:  Loss:     0.1291 Validation Accuracy: 0.641600\n",
      "Epoch 47, CIFAR-10 Batch 4:  Loss:     0.1665 Validation Accuracy: 0.658600\n",
      "Epoch 47, CIFAR-10 Batch 5:  Loss:     0.1286 Validation Accuracy: 0.666400\n",
      "Epoch 48, CIFAR-10 Batch 1:  Loss:     0.1544 Validation Accuracy: 0.660600\n",
      "Epoch 48, CIFAR-10 Batch 2:  Loss:     0.1619 Validation Accuracy: 0.673400\n",
      "Epoch 48, CIFAR-10 Batch 3:  Loss:     0.1329 Validation Accuracy: 0.650400\n",
      "Epoch 48, CIFAR-10 Batch 4:  Loss:     0.1734 Validation Accuracy: 0.661200\n",
      "Epoch 48, CIFAR-10 Batch 5:  Loss:     0.1490 Validation Accuracy: 0.659800\n",
      "Epoch 49, CIFAR-10 Batch 1:  Loss:     0.1667 Validation Accuracy: 0.660800\n",
      "Epoch 49, CIFAR-10 Batch 2:  Loss:     0.1593 Validation Accuracy: 0.666000\n",
      "Epoch 49, CIFAR-10 Batch 3:  Loss:     0.1290 Validation Accuracy: 0.639800\n",
      "Epoch 49, CIFAR-10 Batch 4:  Loss:     0.1609 Validation Accuracy: 0.658000\n",
      "Epoch 49, CIFAR-10 Batch 5:  Loss:     0.1344 Validation Accuracy: 0.668800\n",
      "Epoch 50, CIFAR-10 Batch 1:  Loss:     0.1829 Validation Accuracy: 0.656200\n",
      "Epoch 50, CIFAR-10 Batch 2:  Loss:     0.1497 Validation Accuracy: 0.663200\n",
      "Epoch 50, CIFAR-10 Batch 3:  Loss:     0.1199 Validation Accuracy: 0.647600\n",
      "Epoch 50, CIFAR-10 Batch 4:  Loss:     0.1550 Validation Accuracy: 0.661600\n",
      "Epoch 50, CIFAR-10 Batch 5:  Loss:     0.1239 Validation Accuracy: 0.667200\n"
     ]
    }
   ],
   "source": [
    "\"\"\"\n",
    "DON'T MODIFY ANYTHING IN THIS CELL\n",
    "\"\"\"\n",
    "save_model_path = './image_classification'\n",
    "\n",
    "print('Training...')\n",
    "with tf.Session() as sess:\n",
    "    # Initializing the variables\n",
    "    sess.run(tf.global_variables_initializer())\n",
    "    \n",
    "    # Training cycle\n",
    "    for epoch in range(epochs):\n",
    "        # Loop over all batches\n",
    "        n_batches = 5\n",
    "        for batch_i in range(1, n_batches + 1):\n",
    "            for batch_features, batch_labels in helper.load_preprocess_training_batch(batch_i, batch_size):\n",
    "                train_neural_network(sess, optimizer, keep_probability, batch_features, batch_labels)\n",
    "            print('Epoch {:>2}, CIFAR-10 Batch {}:  '.format(epoch + 1, batch_i), end='')\n",
    "            print_stats(sess, batch_features, batch_labels, cost, accuracy)\n",
    "            \n",
    "    # Save Model\n",
    "    saver = tf.train.Saver()\n",
    "    save_path = saver.save(sess, save_model_path)"
   ]
  },
  {
   "cell_type": "markdown",
   "metadata": {},
   "source": [
    "# Checkpoint\n",
    "The model has been saved to disk.\n",
    "## Test Model\n",
    "Test your model against the test dataset.  This will be your final accuracy. You should have an accuracy greater than 50%. If you don't, keep tweaking the model architecture and parameters."
   ]
  },
  {
   "cell_type": "code",
   "execution_count": 15,
   "metadata": {
    "collapsed": false
   },
   "outputs": [
    {
     "name": "stdout",
     "output_type": "stream",
     "text": [
      "Testing Accuracy: 0.66123046875\n",
      "\n"
     ]
    },
    {
     "data": {
      "image/png": "[encoded data removed]",
      "text/plain": [
       "<matplotlib.figure.Figure at 0x119cd1208>"
      ]
     },
     "metadata": {
      "image/png": {
       "height": 319,
       "width": 355
      }
     },
     "output_type": "display_data"
    }
   ],
   "source": [
    "\"\"\"\n",
    "DON'T MODIFY ANYTHING IN THIS CELL\n",
    "\"\"\"\n",
    "%matplotlib inline\n",
    "%config InlineBackend.figure_format = 'retina'\n",
    "\n",
    "import tensorflow as tf\n",
    "import pickle\n",
    "import helper\n",
    "import random\n",
    "\n",
    "# Set batch size if not already set\n",
    "try:\n",
    "    if batch_size:\n",
    "        pass\n",
    "except NameError:\n",
    "    batch_size = 64\n",
    "\n",
    "save_model_path = './image_classification'\n",
    "n_samples = 4\n",
    "top_n_predictions = 3\n",
    "\n",
    "def test_model():\n",
    "    \"\"\"\n",
    "    Test the saved model against the test dataset\n",
    "    \"\"\"\n",
    "\n",
    "    test_features, test_labels = pickle.load(open('preprocess_training.p', mode='rb'))\n",
    "    loaded_graph = tf.Graph()\n",
    "\n",
    "    with tf.Session(graph=loaded_graph) as sess:\n",
    "        # Load model\n",
    "        loader = tf.train.import_meta_graph(save_model_path + '.meta')\n",
    "        loader.restore(sess, save_model_path)\n",
    "\n",
    "        # Get Tensors from loaded model\n",
    "        loaded_x = loaded_graph.get_tensor_by_name('x:0')\n",
    "        loaded_y = loaded_graph.get_tensor_by_name('y:0')\n",
    "        loaded_keep_prob = loaded_graph.get_tensor_by_name('keep_prob:0')\n",
    "        loaded_logits = loaded_graph.get_tensor_by_name('logits:0')\n",
    "        loaded_acc = loaded_graph.get_tensor_by_name('accuracy:0')\n",
    "        \n",
    "        # Get accuracy in batches for memory limitations\n",
    "        test_batch_acc_total = 0\n",
    "        test_batch_count = 0\n",
    "        \n",
    "        for train_feature_batch, train_label_batch in helper.batch_features_labels(test_features, test_labels, batch_size):\n",
    "            test_batch_acc_total += sess.run(\n",
    "                loaded_acc,\n",
    "                feed_dict={loaded_x: train_feature_batch, loaded_y: train_label_batch, loaded_keep_prob: 1.0})\n",
    "            test_batch_count += 1\n",
    "\n",
    "        print('Testing Accuracy: {}\\n'.format(test_batch_acc_total/test_batch_count))\n",
    "\n",
    "        # Print Random Samples\n",
    "        random_test_features, random_test_labels = tuple(zip(*random.sample(list(zip(test_features, test_labels)), n_samples)))\n",
    "        random_test_predictions = sess.run(\n",
    "            tf.nn.top_k(tf.nn.softmax(loaded_logits), top_n_predictions),\n",
    "            feed_dict={loaded_x: random_test_features, loaded_y: random_test_labels, loaded_keep_prob: 1.0})\n",
    "        helper.display_image_predictions(random_test_features, random_test_labels, random_test_predictions)\n",
    "\n",
    "\n",
    "test_model()"
   ]
  },
  {
   "cell_type": "markdown",
   "metadata": {},
   "source": [
    "## Why 50-70% Accuracy?\n",
    "You might be wondering why you can't get an accuracy any higher. First things first, 50% isn't bad for a simple CNN.  Pure guessing would get you 10% accuracy. However, you might notice people are getting scores [well above 70%](http://rodrigob.github.io/are_we_there_yet/build/classification_datasets_results.html#43494641522d3130).  That's because we haven't taught you all there is to know about neural networks. We still need to cover a few more techniques.\n",
    "## Submitting This Project\n",
    "When submitting this project, make sure to run all the cells before saving the notebook.  Save the notebook file as \"dlnd_image_classification.ipynb\" and save it as a HTML file under \"File\" -> \"Download as\".  Include the \"helper.py\" and \"problem_unittests.py\" files in your submission."
   ]
  }
 ],
 "metadata": {
  "kernelspec": {
   "display_name": "Python 3",
   "language": "python",
   "name": "python3"
  },
  "language_info": {
   "codemirror_mode": {
    "name": "ipython",
    "version": 3
   },
   "file_extension": ".py",
   "mimetype": "text/x-python",
   "name": "python",
   "nbconvert_exporter": "python",
   "pygments_lexer": "ipython3",
   "version": "3.6.0"
  }
 },
 "nbformat": 4,
 "nbformat_minor": 0
}
